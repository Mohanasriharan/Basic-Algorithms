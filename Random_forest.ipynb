{
  "nbformat": 4,
  "nbformat_minor": 0,
  "metadata": {
    "colab": {
      "name": "Random forest.ipynb",
      "provenance": [],
      "collapsed_sections": []
    },
    "kernelspec": {
      "name": "python3",
      "display_name": "Python 3"
    },
    "language_info": {
      "name": "python"
    }
  },
  "cells": [
    {
      "cell_type": "code",
      "execution_count": null,
      "metadata": {
        "id": "sWRyOyHkLuu5"
      },
      "outputs": [],
      "source": [
        "import pandas as pd\n",
        "import matplotlib.pyplot as plt\n"
      ]
    },
    {
      "cell_type": "code",
      "source": [
        "df=pd.read_csv(\"/content/Social_Network_Ads (1).csv\")"
      ],
      "metadata": {
        "id": "wmAZ6zamlikH"
      },
      "execution_count": null,
      "outputs": []
    },
    {
      "cell_type": "code",
      "source": [
        "df.head()"
      ],
      "metadata": {
        "colab": {
          "base_uri": "https://localhost:8080/",
          "height": 206
        },
        "id": "N_rRJc9alnaD",
        "outputId": "c3a29933-aa2d-4555-f825-86ea486799fc"
      },
      "execution_count": null,
      "outputs": [
        {
          "output_type": "execute_result",
          "data": {
            "text/plain": [
              "    User ID  Gender   Age  EstimatedSalary  Purchased\n",
              "0  15624510    Male  19.0          19000.0          0\n",
              "1  15810944    Male  35.0          20000.0          0\n",
              "2  15668575  Female  26.0          43000.0          0\n",
              "3  15603246  Female  27.0          57000.0          0\n",
              "4  15804002    Male  19.0          76000.0          0"
            ],
            "text/html": [
              "\n",
              "  <div id=\"df-16ea00db-5108-4eec-ad82-60efad1d3fa1\">\n",
              "    <div class=\"colab-df-container\">\n",
              "      <div>\n",
              "<style scoped>\n",
              "    .dataframe tbody tr th:only-of-type {\n",
              "        vertical-align: middle;\n",
              "    }\n",
              "\n",
              "    .dataframe tbody tr th {\n",
              "        vertical-align: top;\n",
              "    }\n",
              "\n",
              "    .dataframe thead th {\n",
              "        text-align: right;\n",
              "    }\n",
              "</style>\n",
              "<table border=\"1\" class=\"dataframe\">\n",
              "  <thead>\n",
              "    <tr style=\"text-align: right;\">\n",
              "      <th></th>\n",
              "      <th>User ID</th>\n",
              "      <th>Gender</th>\n",
              "      <th>Age</th>\n",
              "      <th>EstimatedSalary</th>\n",
              "      <th>Purchased</th>\n",
              "    </tr>\n",
              "  </thead>\n",
              "  <tbody>\n",
              "    <tr>\n",
              "      <th>0</th>\n",
              "      <td>15624510</td>\n",
              "      <td>Male</td>\n",
              "      <td>19.0</td>\n",
              "      <td>19000.0</td>\n",
              "      <td>0</td>\n",
              "    </tr>\n",
              "    <tr>\n",
              "      <th>1</th>\n",
              "      <td>15810944</td>\n",
              "      <td>Male</td>\n",
              "      <td>35.0</td>\n",
              "      <td>20000.0</td>\n",
              "      <td>0</td>\n",
              "    </tr>\n",
              "    <tr>\n",
              "      <th>2</th>\n",
              "      <td>15668575</td>\n",
              "      <td>Female</td>\n",
              "      <td>26.0</td>\n",
              "      <td>43000.0</td>\n",
              "      <td>0</td>\n",
              "    </tr>\n",
              "    <tr>\n",
              "      <th>3</th>\n",
              "      <td>15603246</td>\n",
              "      <td>Female</td>\n",
              "      <td>27.0</td>\n",
              "      <td>57000.0</td>\n",
              "      <td>0</td>\n",
              "    </tr>\n",
              "    <tr>\n",
              "      <th>4</th>\n",
              "      <td>15804002</td>\n",
              "      <td>Male</td>\n",
              "      <td>19.0</td>\n",
              "      <td>76000.0</td>\n",
              "      <td>0</td>\n",
              "    </tr>\n",
              "  </tbody>\n",
              "</table>\n",
              "</div>\n",
              "      <button class=\"colab-df-convert\" onclick=\"convertToInteractive('df-16ea00db-5108-4eec-ad82-60efad1d3fa1')\"\n",
              "              title=\"Convert this dataframe to an interactive table.\"\n",
              "              style=\"display:none;\">\n",
              "        \n",
              "  <svg xmlns=\"http://www.w3.org/2000/svg\" height=\"24px\"viewBox=\"0 0 24 24\"\n",
              "       width=\"24px\">\n",
              "    <path d=\"M0 0h24v24H0V0z\" fill=\"none\"/>\n",
              "    <path d=\"M18.56 5.44l.94 2.06.94-2.06 2.06-.94-2.06-.94-.94-2.06-.94 2.06-2.06.94zm-11 1L8.5 8.5l.94-2.06 2.06-.94-2.06-.94L8.5 2.5l-.94 2.06-2.06.94zm10 10l.94 2.06.94-2.06 2.06-.94-2.06-.94-.94-2.06-.94 2.06-2.06.94z\"/><path d=\"M17.41 7.96l-1.37-1.37c-.4-.4-.92-.59-1.43-.59-.52 0-1.04.2-1.43.59L10.3 9.45l-7.72 7.72c-.78.78-.78 2.05 0 2.83L4 21.41c.39.39.9.59 1.41.59.51 0 1.02-.2 1.41-.59l7.78-7.78 2.81-2.81c.8-.78.8-2.07 0-2.86zM5.41 20L4 18.59l7.72-7.72 1.47 1.35L5.41 20z\"/>\n",
              "  </svg>\n",
              "      </button>\n",
              "      \n",
              "  <style>\n",
              "    .colab-df-container {\n",
              "      display:flex;\n",
              "      flex-wrap:wrap;\n",
              "      gap: 12px;\n",
              "    }\n",
              "\n",
              "    .colab-df-convert {\n",
              "      background-color: #E8F0FE;\n",
              "      border: none;\n",
              "      border-radius: 50%;\n",
              "      cursor: pointer;\n",
              "      display: none;\n",
              "      fill: #1967D2;\n",
              "      height: 32px;\n",
              "      padding: 0 0 0 0;\n",
              "      width: 32px;\n",
              "    }\n",
              "\n",
              "    .colab-df-convert:hover {\n",
              "      background-color: #E2EBFA;\n",
              "      box-shadow: 0px 1px 2px rgba(60, 64, 67, 0.3), 0px 1px 3px 1px rgba(60, 64, 67, 0.15);\n",
              "      fill: #174EA6;\n",
              "    }\n",
              "\n",
              "    [theme=dark] .colab-df-convert {\n",
              "      background-color: #3B4455;\n",
              "      fill: #D2E3FC;\n",
              "    }\n",
              "\n",
              "    [theme=dark] .colab-df-convert:hover {\n",
              "      background-color: #434B5C;\n",
              "      box-shadow: 0px 1px 3px 1px rgba(0, 0, 0, 0.15);\n",
              "      filter: drop-shadow(0px 1px 2px rgba(0, 0, 0, 0.3));\n",
              "      fill: #FFFFFF;\n",
              "    }\n",
              "  </style>\n",
              "\n",
              "      <script>\n",
              "        const buttonEl =\n",
              "          document.querySelector('#df-16ea00db-5108-4eec-ad82-60efad1d3fa1 button.colab-df-convert');\n",
              "        buttonEl.style.display =\n",
              "          google.colab.kernel.accessAllowed ? 'block' : 'none';\n",
              "\n",
              "        async function convertToInteractive(key) {\n",
              "          const element = document.querySelector('#df-16ea00db-5108-4eec-ad82-60efad1d3fa1');\n",
              "          const dataTable =\n",
              "            await google.colab.kernel.invokeFunction('convertToInteractive',\n",
              "                                                     [key], {});\n",
              "          if (!dataTable) return;\n",
              "\n",
              "          const docLinkHtml = 'Like what you see? Visit the ' +\n",
              "            '<a target=\"_blank\" href=https://colab.research.google.com/notebooks/data_table.ipynb>data table notebook</a>'\n",
              "            + ' to learn more about interactive tables.';\n",
              "          element.innerHTML = '';\n",
              "          dataTable['output_type'] = 'display_data';\n",
              "          await google.colab.output.renderOutput(dataTable, element);\n",
              "          const docLink = document.createElement('div');\n",
              "          docLink.innerHTML = docLinkHtml;\n",
              "          element.appendChild(docLink);\n",
              "        }\n",
              "      </script>\n",
              "    </div>\n",
              "  </div>\n",
              "  "
            ]
          },
          "metadata": {},
          "execution_count": 3
        }
      ]
    },
    {
      "cell_type": "code",
      "source": [
        "df.info()"
      ],
      "metadata": {
        "colab": {
          "base_uri": "https://localhost:8080/"
        },
        "id": "TzXVwpwTly1-",
        "outputId": "ff60bccb-1462-4b41-83c5-51f8f9026d2e"
      },
      "execution_count": null,
      "outputs": [
        {
          "output_type": "stream",
          "name": "stdout",
          "text": [
            "<class 'pandas.core.frame.DataFrame'>\n",
            "RangeIndex: 400 entries, 0 to 399\n",
            "Data columns (total 5 columns):\n",
            " #   Column           Non-Null Count  Dtype  \n",
            "---  ------           --------------  -----  \n",
            " 0   User ID          400 non-null    int64  \n",
            " 1   Gender           400 non-null    object \n",
            " 2   Age              400 non-null    float64\n",
            " 3   EstimatedSalary  400 non-null    float64\n",
            " 4   Purchased        400 non-null    int64  \n",
            "dtypes: float64(2), int64(2), object(1)\n",
            "memory usage: 15.8+ KB\n"
          ]
        }
      ]
    },
    {
      "cell_type": "code",
      "source": [
        "df.columns"
      ],
      "metadata": {
        "colab": {
          "base_uri": "https://localhost:8080/"
        },
        "id": "7v-YiNULl26m",
        "outputId": "9e5d4a5b-f59d-4c82-f8aa-40bf752a983d"
      },
      "execution_count": null,
      "outputs": [
        {
          "output_type": "execute_result",
          "data": {
            "text/plain": [
              "Index(['User ID', 'Gender', 'Age', 'EstimatedSalary', 'Purchased'], dtype='object')"
            ]
          },
          "metadata": {},
          "execution_count": 6
        }
      ]
    },
    {
      "cell_type": "code",
      "source": [
        "df.shape"
      ],
      "metadata": {
        "colab": {
          "base_uri": "https://localhost:8080/"
        },
        "id": "8665twi8mBBo",
        "outputId": "72de2ca2-42e4-47dc-b7d4-616ef1bb691d"
      },
      "execution_count": null,
      "outputs": [
        {
          "output_type": "execute_result",
          "data": {
            "text/plain": [
              "(400, 5)"
            ]
          },
          "metadata": {},
          "execution_count": 7
        }
      ]
    },
    {
      "cell_type": "code",
      "source": [
        "from sklearn.preprocessing import StandardScaler"
      ],
      "metadata": {
        "id": "6cOhMBBNmD-u"
      },
      "execution_count": null,
      "outputs": []
    },
    {
      "cell_type": "code",
      "source": [
        "st=StandardScaler()\n",
        "scaled=st.fit_transform(X)"
      ],
      "metadata": {
        "id": "Tbvirb1V3fmo"
      },
      "execution_count": null,
      "outputs": []
    },
    {
      "cell_type": "code",
      "source": [
        "X=pd.DataFrame(scaled,columns=[['Age','EstimatedSalary','Gender_Female','Gender_Male']])"
      ],
      "metadata": {
        "id": "tUtG0q9HmRh3"
      },
      "execution_count": null,
      "outputs": []
    },
    {
      "cell_type": "code",
      "source": [
        "Y=df[['Purchased']]"
      ],
      "metadata": {
        "id": "AcJVWAdwmUIW"
      },
      "execution_count": null,
      "outputs": []
    },
    {
      "cell_type": "code",
      "source": [
        "x_train,x_test,y_train,y_test=train_test_split(x,y,test_size=0.3,random_state=123)"
      ],
      "metadata": {
        "id": "rQh0HSTl3oyp"
      },
      "execution_count": null,
      "outputs": []
    },
    {
      "cell_type": "code",
      "source": [
        "model=RandomForestClassifier()\n",
        "model.fit(x_train,y_train)\n"
      ],
      "metadata": {
        "colab": {
          "base_uri": "https://localhost:8080/"
        },
        "id": "qtU4A_jg3tsm",
        "outputId": "0658afb8-4680-4961-8042-266d34451208"
      },
      "execution_count": null,
      "outputs": [
        {
          "output_type": "stream",
          "name": "stderr",
          "text": [
            "/usr/local/lib/python3.7/dist-packages/ipykernel_launcher.py:2: DataConversionWarning: A column-vector y was passed when a 1d array was expected. Please change the shape of y to (n_samples,), for example using ravel().\n",
            "  \n"
          ]
        },
        {
          "output_type": "execute_result",
          "data": {
            "text/plain": [
              "RandomForestClassifier()"
            ]
          },
          "metadata": {},
          "execution_count": 118
        }
      ]
    },
    {
      "cell_type": "code",
      "source": [
        "ypred=model.predict(x_test)"
      ],
      "metadata": {
        "id": "s-YMzChj3tpR"
      },
      "execution_count": null,
      "outputs": []
    },
    {
      "cell_type": "code",
      "source": [
        "model.score(x_test,y_test)"
      ],
      "metadata": {
        "colab": {
          "base_uri": "https://localhost:8080/"
        },
        "id": "4AMNcAtu3tmb",
        "outputId": "bbb208ed-c13c-4e62-d8de-8dd4479071e1"
      },
      "execution_count": null,
      "outputs": [
        {
          "output_type": "execute_result",
          "data": {
            "text/plain": [
              "0.9"
            ]
          },
          "metadata": {},
          "execution_count": 120
        }
      ]
    },
    {
      "cell_type": "code",
      "source": [
        "accuracy_score(y_test,ypred)\n"
      ],
      "metadata": {
        "colab": {
          "base_uri": "https://localhost:8080/"
        },
        "id": "NWWBoftN3tj8",
        "outputId": "a361d1b0-d58a-4297-8651-43001a896506"
      },
      "execution_count": null,
      "outputs": [
        {
          "output_type": "execute_result",
          "data": {
            "text/plain": [
              "0.9"
            ]
          },
          "metadata": {},
          "execution_count": 121
        }
      ]
    },
    {
      "cell_type": "code",
      "source": [
        "confusion_matrix(y_test,ypred)"
      ],
      "metadata": {
        "colab": {
          "base_uri": "https://localhost:8080/"
        },
        "id": "-jorHMq33thF",
        "outputId": "e43bb698-e15e-4741-bab4-ebc1975f6211"
      },
      "execution_count": null,
      "outputs": [
        {
          "output_type": "execute_result",
          "data": {
            "text/plain": [
              "array([[68,  9],\n",
              "       [ 3, 40]])"
            ]
          },
          "metadata": {},
          "execution_count": 122
        }
      ]
    },
    {
      "cell_type": "code",
      "source": [
        "classification_report(y_test,ypred)"
      ],
      "metadata": {
        "colab": {
          "base_uri": "https://localhost:8080/",
          "height": 53
        },
        "id": "3AUlcRIM3teX",
        "outputId": "12fc5e29-5308-4fac-d1af-f15931f2c800"
      },
      "execution_count": null,
      "outputs": [
        {
          "output_type": "execute_result",
          "data": {
            "text/plain": [
              "'              precision    recall  f1-score   support\\n\\n           0       0.96      0.88      0.92        77\\n           1       0.82      0.93      0.87        43\\n\\n    accuracy                           0.90       120\\n   macro avg       0.89      0.91      0.89       120\\nweighted avg       0.91      0.90      0.90       120\\n'"
            ],
            "application/vnd.google.colaboratory.intrinsic+json": {
              "type": "string"
            }
          },
          "metadata": {},
          "execution_count": 123
        }
      ]
    },
    {
      "cell_type": "code",
      "source": [
        "y_proba=model.predict_proba(x_test)"
      ],
      "metadata": {
        "id": "aGcvdxmn3tbx"
      },
      "execution_count": null,
      "outputs": []
    },
    {
      "cell_type": "code",
      "source": [
        "y_proba"
      ],
      "metadata": {
        "colab": {
          "base_uri": "https://localhost:8080/"
        },
        "id": "5gciOuBG3tY1",
        "outputId": "c070b6ea-2447-4467-d287-68a5ef674d8d"
      },
      "execution_count": null,
      "outputs": [
        {
          "output_type": "execute_result",
          "data": {
            "text/plain": [
              "array([[0.2 , 0.8 ],\n",
              "       [0.16, 0.84],\n",
              "       [0.92, 0.08],\n",
              "       [0.94, 0.06],\n",
              "       [0.99, 0.01],\n",
              "       [1.  , 0.  ],\n",
              "       [1.  , 0.  ],\n",
              "       [0.1 , 0.9 ],\n",
              "       [0.81, 0.19],\n",
              "       [0.14, 0.86],\n",
              "       [0.96, 0.04],\n",
              "       [0.83, 0.17],\n",
              "       [0.24, 0.76],\n",
              "       [1.  , 0.  ],\n",
              "       [1.  , 0.  ],\n",
              "       [0.06, 0.94],\n",
              "       [1.  , 0.  ],\n",
              "       [0.88, 0.12],\n",
              "       [0.92, 0.08],\n",
              "       [0.97, 0.03],\n",
              "       [1.  , 0.  ],\n",
              "       [0.98, 0.02],\n",
              "       [1.  , 0.  ],\n",
              "       [0.44, 0.56],\n",
              "       [1.  , 0.  ],\n",
              "       [0.04, 0.96],\n",
              "       [1.  , 0.  ],\n",
              "       [0.05, 0.95],\n",
              "       [1.  , 0.  ],\n",
              "       [0.88, 0.12],\n",
              "       [0.16, 0.84],\n",
              "       [0.77, 0.23],\n",
              "       [0.09, 0.91],\n",
              "       [0.99, 0.01],\n",
              "       [1.  , 0.  ],\n",
              "       [0.07, 0.93],\n",
              "       [0.99, 0.01],\n",
              "       [0.92, 0.08],\n",
              "       [0.12, 0.88],\n",
              "       [0.92, 0.08],\n",
              "       [0.82, 0.18],\n",
              "       [0.97, 0.03],\n",
              "       [0.92, 0.08],\n",
              "       [0.99, 0.01],\n",
              "       [0.17, 0.83],\n",
              "       [0.91, 0.09],\n",
              "       [1.  , 0.  ],\n",
              "       [0.11, 0.89],\n",
              "       [0.22, 0.78],\n",
              "       [1.  , 0.  ],\n",
              "       [0.24, 0.76],\n",
              "       [0.99, 0.01],\n",
              "       [0.21, 0.79],\n",
              "       [0.14, 0.86],\n",
              "       [0.34, 0.66],\n",
              "       [0.18, 0.82],\n",
              "       [1.  , 0.  ],\n",
              "       [0.03, 0.97],\n",
              "       [0.99, 0.01],\n",
              "       [1.  , 0.  ],\n",
              "       [0.11, 0.89],\n",
              "       [0.21, 0.79],\n",
              "       [0.44, 0.56],\n",
              "       [0.09, 0.91],\n",
              "       [0.41, 0.59],\n",
              "       [0.35, 0.65],\n",
              "       [0.8 , 0.2 ],\n",
              "       [0.05, 0.95],\n",
              "       [0.98, 0.02],\n",
              "       [1.  , 0.  ],\n",
              "       [0.94, 0.06],\n",
              "       [0.21, 0.79],\n",
              "       [0.98, 0.02],\n",
              "       [0.97, 0.03],\n",
              "       [0.19, 0.81],\n",
              "       [0.94, 0.06],\n",
              "       [0.06, 0.94],\n",
              "       [0.06, 0.94],\n",
              "       [0.73, 0.27],\n",
              "       [0.15, 0.85],\n",
              "       [0.96, 0.04],\n",
              "       [0.34, 0.66],\n",
              "       [0.94, 0.06],\n",
              "       [0.11, 0.89],\n",
              "       [0.99, 0.01],\n",
              "       [0.88, 0.12],\n",
              "       [0.97, 0.03],\n",
              "       [0.2 , 0.8 ],\n",
              "       [0.96, 0.04],\n",
              "       [0.93, 0.07],\n",
              "       [0.12, 0.88],\n",
              "       [0.36, 0.64],\n",
              "       [0.58, 0.42],\n",
              "       [0.16, 0.84],\n",
              "       [0.99, 0.01],\n",
              "       [0.17, 0.83],\n",
              "       [0.19, 0.81],\n",
              "       [0.95, 0.05],\n",
              "       [0.88, 0.12],\n",
              "       [1.  , 0.  ],\n",
              "       [0.86, 0.14],\n",
              "       [0.27, 0.73],\n",
              "       [0.97, 0.03],\n",
              "       [0.94, 0.06],\n",
              "       [1.  , 0.  ],\n",
              "       [0.31, 0.69],\n",
              "       [0.98, 0.02],\n",
              "       [1.  , 0.  ],\n",
              "       [0.95, 0.05],\n",
              "       [0.08, 0.92],\n",
              "       [0.28, 0.72],\n",
              "       [0.92, 0.08],\n",
              "       [0.1 , 0.9 ],\n",
              "       [1.  , 0.  ],\n",
              "       [0.13, 0.87],\n",
              "       [0.97, 0.03],\n",
              "       [0.9 , 0.1 ],\n",
              "       [1.  , 0.  ],\n",
              "       [0.12, 0.88],\n",
              "       [0.97, 0.03]])"
            ]
          },
          "metadata": {},
          "execution_count": 128
        }
      ]
    },
    {
      "cell_type": "code",
      "source": [
        "y_predicted=y_proba[:,1]"
      ],
      "metadata": {
        "id": "d_wNOXXC3tV9"
      },
      "execution_count": null,
      "outputs": []
    },
    {
      "cell_type": "code",
      "source": [
        "y_predicted"
      ],
      "metadata": {
        "colab": {
          "base_uri": "https://localhost:8080/"
        },
        "id": "Hi1c53GM3tHi",
        "outputId": "55a3ea25-35dc-490b-ecdd-61d64270b683"
      },
      "execution_count": null,
      "outputs": [
        {
          "output_type": "execute_result",
          "data": {
            "text/plain": [
              "array([0.8 , 0.84, 0.08, 0.06, 0.01, 0.  , 0.  , 0.9 , 0.19, 0.86, 0.04,\n",
              "       0.17, 0.76, 0.  , 0.  , 0.94, 0.  , 0.12, 0.08, 0.03, 0.  , 0.02,\n",
              "       0.  , 0.56, 0.  , 0.96, 0.  , 0.95, 0.  , 0.12, 0.84, 0.23, 0.91,\n",
              "       0.01, 0.  , 0.93, 0.01, 0.08, 0.88, 0.08, 0.18, 0.03, 0.08, 0.01,\n",
              "       0.83, 0.09, 0.  , 0.89, 0.78, 0.  , 0.76, 0.01, 0.79, 0.86, 0.66,\n",
              "       0.82, 0.  , 0.97, 0.01, 0.  , 0.89, 0.79, 0.56, 0.91, 0.59, 0.65,\n",
              "       0.2 , 0.95, 0.02, 0.  , 0.06, 0.79, 0.02, 0.03, 0.81, 0.06, 0.94,\n",
              "       0.94, 0.27, 0.85, 0.04, 0.66, 0.06, 0.89, 0.01, 0.12, 0.03, 0.8 ,\n",
              "       0.04, 0.07, 0.88, 0.64, 0.42, 0.84, 0.01, 0.83, 0.81, 0.05, 0.12,\n",
              "       0.  , 0.14, 0.73, 0.03, 0.06, 0.  , 0.69, 0.02, 0.  , 0.05, 0.92,\n",
              "       0.72, 0.08, 0.9 , 0.  , 0.87, 0.03, 0.1 , 0.  , 0.88, 0.03])"
            ]
          },
          "metadata": {},
          "execution_count": 127
        }
      ]
    },
    {
      "cell_type": "code",
      "source": [
        "fpr,tpr,thresold=roc_curve(y_test,y_predicted)"
      ],
      "metadata": {
        "id": "HFYvE08p4IJO"
      },
      "execution_count": null,
      "outputs": []
    },
    {
      "cell_type": "code",
      "source": [
        "fpr,tpr,thresold"
      ],
      "metadata": {
        "colab": {
          "base_uri": "https://localhost:8080/"
        },
        "id": "DAM0ydq24IF4",
        "outputId": "49b97496-664e-4635-ecce-d73995a70d94"
      },
      "execution_count": null,
      "outputs": [
        {
          "output_type": "execute_result",
          "data": {
            "text/plain": [
              "(array([0.        , 0.        , 0.        , 0.        , 0.        ,\n",
              "        0.        , 0.        , 0.        , 0.02597403, 0.02597403,\n",
              "        0.03896104, 0.03896104, 0.06493506, 0.06493506, 0.06493506,\n",
              "        0.06493506, 0.07792208, 0.07792208, 0.07792208, 0.09090909,\n",
              "        0.09090909, 0.09090909, 0.09090909, 0.11688312, 0.16883117,\n",
              "        0.16883117, 0.20779221, 0.25974026, 0.28571429, 0.33766234,\n",
              "        0.35064935, 0.41558442, 0.44155844, 0.48051948, 0.57142857,\n",
              "        0.62337662, 0.72727273, 1.        ]),\n",
              " array([0.        , 0.02325581, 0.04651163, 0.09302326, 0.1627907 ,\n",
              "        0.20930233, 0.30232558, 0.37209302, 0.39534884, 0.41860465,\n",
              "        0.44186047, 0.46511628, 0.48837209, 0.53488372, 0.55813953,\n",
              "        0.60465116, 0.62790698, 0.69767442, 0.72093023, 0.74418605,\n",
              "        0.81395349, 0.86046512, 0.93023256, 0.93023256, 0.93023256,\n",
              "        0.95348837, 0.95348837, 0.95348837, 0.95348837, 1.        ,\n",
              "        1.        , 1.        , 1.        , 1.        , 1.        ,\n",
              "        1.        , 1.        , 1.        ]),\n",
              " array([1.97, 0.97, 0.96, 0.95, 0.94, 0.92, 0.9 , 0.89, 0.88, 0.87, 0.86,\n",
              "        0.85, 0.84, 0.83, 0.82, 0.81, 0.8 , 0.79, 0.78, 0.76, 0.69, 0.66,\n",
              "        0.59, 0.56, 0.2 , 0.19, 0.14, 0.12, 0.09, 0.08, 0.07, 0.06, 0.05,\n",
              "        0.04, 0.03, 0.02, 0.01, 0.  ]))"
            ]
          },
          "metadata": {},
          "execution_count": 130
        }
      ]
    },
    {
      "cell_type": "code",
      "source": [
        "from sklearn.metrics import auc"
      ],
      "metadata": {
        "id": "SVPFMDlv4IDY"
      },
      "execution_count": null,
      "outputs": []
    },
    {
      "cell_type": "code",
      "source": [
        "roc_auc=auc(fpr,tpr)"
      ],
      "metadata": {
        "id": "IMLJatv64IA_"
      },
      "execution_count": null,
      "outputs": []
    },
    {
      "cell_type": "code",
      "source": [
        ""
      ],
      "metadata": {
        "id": "ucsvfBUb4H-U"
      },
      "execution_count": null,
      "outputs": []
    },
    {
      "cell_type": "code",
      "source": [
        "print(roc_auc)"
      ],
      "metadata": {
        "colab": {
          "base_uri": "https://localhost:8080/"
        },
        "id": "yWtafDXhxa9y",
        "outputId": "bc5d8cb4-93d8-461d-a2e1-f6eb353f14b2"
      },
      "execution_count": null,
      "outputs": [
        {
          "output_type": "stream",
          "name": "stdout",
          "text": [
            "0.9424645122319542\n"
          ]
        }
      ]
    },
    {
      "cell_type": "code",
      "source": [
        "plt.plot(fpr,tpr,color='blue',lw=2,label=\"Roc curve\")\n",
        "plt.plot([0,1],[0,1],color=\"darkgrey\",lw=2,linestyle=\"--\")\n",
        "plt.xlim([0.0,1.0])\n",
        "plt.ylim([0.0,1.0])\n",
        "plt.figure()"
      ],
      "metadata": {
        "colab": {
          "base_uri": "https://localhost:8080/",
          "height": 304
        },
        "id": "KLzao0ad4H7v",
        "outputId": "c76ba080-f19e-418a-f26d-cf02131e3a98"
      },
      "execution_count": null,
      "outputs": [
        {
          "output_type": "execute_result",
          "data": {
            "text/plain": [
              "<Figure size 432x288 with 0 Axes>"
            ]
          },
          "metadata": {},
          "execution_count": 134
        },
        {
          "output_type": "display_data",
          "data": {
            "text/plain": [
              "<Figure size 432x288 with 1 Axes>"
            ],
            "image/png": "[encoded data removed]"
          },
          "metadata": {
            "needs_background": "light"
          }
        },
        {
          "output_type": "display_data",
          "data": {
            "text/plain": [
              "<Figure size 432x288 with 0 Axes>"
            ]
          },
          "metadata": {}
        }
      ]
    },
    {
      "cell_type": "code",
      "source": [
        "\n",
        "from sklearn.model_selection import train_test_split"
      ],
      "metadata": {
        "id": "WKO0zg1umXkr"
      },
      "execution_count": null,
      "outputs": []
    },
    {
      "cell_type": "code",
      "source": [
        "df=pd.get_dummies(df)"
      ],
      "metadata": {
        "id": "mG0kev_TmfL-"
      },
      "execution_count": null,
      "outputs": []
    },
    {
      "cell_type": "code",
      "source": [
        "df"
      ],
      "metadata": {
        "colab": {
          "base_uri": "https://localhost:8080/",
          "height": 424
        },
        "id": "a5Ez71QEnNQM",
        "outputId": "bf2add4f-64e2-4c9c-af93-829a82672ad9"
      },
      "execution_count": null,
      "outputs": [
        {
          "output_type": "execute_result",
          "data": {
            "text/plain": [
              "      User ID   Age  EstimatedSalary  Purchased  Gender_Female  Gender_Male\n",
              "0    15624510  19.0          19000.0          0              0            1\n",
              "1    15810944  35.0          20000.0          0              0            1\n",
              "2    15668575  26.0          43000.0          0              1            0\n",
              "3    15603246  27.0          57000.0          0              1            0\n",
              "4    15804002  19.0          76000.0          0              0            1\n",
              "..        ...   ...              ...        ...            ...          ...\n",
              "395  15691863  46.0          41000.0          1              1            0\n",
              "396  15706071  51.0          23000.0          1              0            1\n",
              "397  15654296  50.0          20000.0          1              1            0\n",
              "398  15755018  36.0          33000.0          0              0            1\n",
              "399  15594041  49.0          36000.0          1              1            0\n",
              "\n",
              "[400 rows x 6 columns]"
            ],
            "text/html": [
              "\n",
              "  <div id=\"df-eac825fb-4314-4532-bb3e-b4d61ac4468f\">\n",
              "    <div class=\"colab-df-container\">\n",
              "      <div>\n",
              "<style scoped>\n",
              "    .dataframe tbody tr th:only-of-type {\n",
              "        vertical-align: middle;\n",
              "    }\n",
              "\n",
              "    .dataframe tbody tr th {\n",
              "        vertical-align: top;\n",
              "    }\n",
              "\n",
              "    .dataframe thead th {\n",
              "        text-align: right;\n",
              "    }\n",
              "</style>\n",
              "<table border=\"1\" class=\"dataframe\">\n",
              "  <thead>\n",
              "    <tr style=\"text-align: right;\">\n",
              "      <th></th>\n",
              "      <th>User ID</th>\n",
              "      <th>Age</th>\n",
              "      <th>EstimatedSalary</th>\n",
              "      <th>Purchased</th>\n",
              "      <th>Gender_Female</th>\n",
              "      <th>Gender_Male</th>\n",
              "    </tr>\n",
              "  </thead>\n",
              "  <tbody>\n",
              "    <tr>\n",
              "      <th>0</th>\n",
              "      <td>15624510</td>\n",
              "      <td>19.0</td>\n",
              "      <td>19000.0</td>\n",
              "      <td>0</td>\n",
              "      <td>0</td>\n",
              "      <td>1</td>\n",
              "    </tr>\n",
              "    <tr>\n",
              "      <th>1</th>\n",
              "      <td>15810944</td>\n",
              "      <td>35.0</td>\n",
              "      <td>20000.0</td>\n",
              "      <td>0</td>\n",
              "      <td>0</td>\n",
              "      <td>1</td>\n",
              "    </tr>\n",
              "    <tr>\n",
              "      <th>2</th>\n",
              "      <td>15668575</td>\n",
              "      <td>26.0</td>\n",
              "      <td>43000.0</td>\n",
              "      <td>0</td>\n",
              "      <td>1</td>\n",
              "      <td>0</td>\n",
              "    </tr>\n",
              "    <tr>\n",
              "      <th>3</th>\n",
              "      <td>15603246</td>\n",
              "      <td>27.0</td>\n",
              "      <td>57000.0</td>\n",
              "      <td>0</td>\n",
              "      <td>1</td>\n",
              "      <td>0</td>\n",
              "    </tr>\n",
              "    <tr>\n",
              "      <th>4</th>\n",
              "      <td>15804002</td>\n",
              "      <td>19.0</td>\n",
              "      <td>76000.0</td>\n",
              "      <td>0</td>\n",
              "      <td>0</td>\n",
              "      <td>1</td>\n",
              "    </tr>\n",
              "    <tr>\n",
              "      <th>...</th>\n",
              "      <td>...</td>\n",
              "      <td>...</td>\n",
              "      <td>...</td>\n",
              "      <td>...</td>\n",
              "      <td>...</td>\n",
              "      <td>...</td>\n",
              "    </tr>\n",
              "    <tr>\n",
              "      <th>395</th>\n",
              "      <td>15691863</td>\n",
              "      <td>46.0</td>\n",
              "      <td>41000.0</td>\n",
              "      <td>1</td>\n",
              "      <td>1</td>\n",
              "      <td>0</td>\n",
              "    </tr>\n",
              "    <tr>\n",
              "      <th>396</th>\n",
              "      <td>15706071</td>\n",
              "      <td>51.0</td>\n",
              "      <td>23000.0</td>\n",
              "      <td>1</td>\n",
              "      <td>0</td>\n",
              "      <td>1</td>\n",
              "    </tr>\n",
              "    <tr>\n",
              "      <th>397</th>\n",
              "      <td>15654296</td>\n",
              "      <td>50.0</td>\n",
              "      <td>20000.0</td>\n",
              "      <td>1</td>\n",
              "      <td>1</td>\n",
              "      <td>0</td>\n",
              "    </tr>\n",
              "    <tr>\n",
              "      <th>398</th>\n",
              "      <td>15755018</td>\n",
              "      <td>36.0</td>\n",
              "      <td>33000.0</td>\n",
              "      <td>0</td>\n",
              "      <td>0</td>\n",
              "      <td>1</td>\n",
              "    </tr>\n",
              "    <tr>\n",
              "      <th>399</th>\n",
              "      <td>15594041</td>\n",
              "      <td>49.0</td>\n",
              "      <td>36000.0</td>\n",
              "      <td>1</td>\n",
              "      <td>1</td>\n",
              "      <td>0</td>\n",
              "    </tr>\n",
              "  </tbody>\n",
              "</table>\n",
              "<p>400 rows × 6 columns</p>\n",
              "</div>\n",
              "      <button class=\"colab-df-convert\" onclick=\"convertToInteractive('df-eac825fb-4314-4532-bb3e-b4d61ac4468f')\"\n",
              "              title=\"Convert this dataframe to an interactive table.\"\n",
              "              style=\"display:none;\">\n",
              "        \n",
              "  <svg xmlns=\"http://www.w3.org/2000/svg\" height=\"24px\"viewBox=\"0 0 24 24\"\n",
              "       width=\"24px\">\n",
              "    <path d=\"M0 0h24v24H0V0z\" fill=\"none\"/>\n",
              "    <path d=\"M18.56 5.44l.94 2.06.94-2.06 2.06-.94-2.06-.94-.94-2.06-.94 2.06-2.06.94zm-11 1L8.5 8.5l.94-2.06 2.06-.94-2.06-.94L8.5 2.5l-.94 2.06-2.06.94zm10 10l.94 2.06.94-2.06 2.06-.94-2.06-.94-.94-2.06-.94 2.06-2.06.94z\"/><path d=\"M17.41 7.96l-1.37-1.37c-.4-.4-.92-.59-1.43-.59-.52 0-1.04.2-1.43.59L10.3 9.45l-7.72 7.72c-.78.78-.78 2.05 0 2.83L4 21.41c.39.39.9.59 1.41.59.51 0 1.02-.2 1.41-.59l7.78-7.78 2.81-2.81c.8-.78.8-2.07 0-2.86zM5.41 20L4 18.59l7.72-7.72 1.47 1.35L5.41 20z\"/>\n",
              "  </svg>\n",
              "      </button>\n",
              "      \n",
              "  <style>\n",
              "    .colab-df-container {\n",
              "      display:flex;\n",
              "      flex-wrap:wrap;\n",
              "      gap: 12px;\n",
              "    }\n",
              "\n",
              "    .colab-df-convert {\n",
              "      background-color: #E8F0FE;\n",
              "      border: none;\n",
              "      border-radius: 50%;\n",
              "      cursor: pointer;\n",
              "      display: none;\n",
              "      fill: #1967D2;\n",
              "      height: 32px;\n",
              "      padding: 0 0 0 0;\n",
              "      width: 32px;\n",
              "    }\n",
              "\n",
              "    .colab-df-convert:hover {\n",
              "      background-color: #E2EBFA;\n",
              "      box-shadow: 0px 1px 2px rgba(60, 64, 67, 0.3), 0px 1px 3px 1px rgba(60, 64, 67, 0.15);\n",
              "      fill: #174EA6;\n",
              "    }\n",
              "\n",
              "    [theme=dark] .colab-df-convert {\n",
              "      background-color: #3B4455;\n",
              "      fill: #D2E3FC;\n",
              "    }\n",
              "\n",
              "    [theme=dark] .colab-df-convert:hover {\n",
              "      background-color: #434B5C;\n",
              "      box-shadow: 0px 1px 3px 1px rgba(0, 0, 0, 0.15);\n",
              "      filter: drop-shadow(0px 1px 2px rgba(0, 0, 0, 0.3));\n",
              "      fill: #FFFFFF;\n",
              "    }\n",
              "  </style>\n",
              "\n",
              "      <script>\n",
              "        const buttonEl =\n",
              "          document.querySelector('#df-eac825fb-4314-4532-bb3e-b4d61ac4468f button.colab-df-convert');\n",
              "        buttonEl.style.display =\n",
              "          google.colab.kernel.accessAllowed ? 'block' : 'none';\n",
              "\n",
              "        async function convertToInteractive(key) {\n",
              "          const element = document.querySelector('#df-eac825fb-4314-4532-bb3e-b4d61ac4468f');\n",
              "          const dataTable =\n",
              "            await google.colab.kernel.invokeFunction('convertToInteractive',\n",
              "                                                     [key], {});\n",
              "          if (!dataTable) return;\n",
              "\n",
              "          const docLinkHtml = 'Like what you see? Visit the ' +\n",
              "            '<a target=\"_blank\" href=https://colab.research.google.com/notebooks/data_table.ipynb>data table notebook</a>'\n",
              "            + ' to learn more about interactive tables.';\n",
              "          element.innerHTML = '';\n",
              "          dataTable['output_type'] = 'display_data';\n",
              "          await google.colab.output.renderOutput(dataTable, element);\n",
              "          const docLink = document.createElement('div');\n",
              "          docLink.innerHTML = docLinkHtml;\n",
              "          element.appendChild(docLink);\n",
              "        }\n",
              "      </script>\n",
              "    </div>\n",
              "  </div>\n",
              "  "
            ]
          },
          "metadata": {},
          "execution_count": 49
        }
      ]
    },
    {
      "cell_type": "code",
      "source": [
        "df.columns"
      ],
      "metadata": {
        "colab": {
          "base_uri": "https://localhost:8080/"
        },
        "id": "UGvqmlxJnQEE",
        "outputId": "b00ef2ca-ca27-4c70-bfb9-661ca81d1809"
      },
      "execution_count": null,
      "outputs": [
        {
          "output_type": "execute_result",
          "data": {
            "text/plain": [
              "Index(['User ID', 'Age', 'EstimatedSalary', 'Purchased', 'Gender_Female',\n",
              "       'Gender_Male'],\n",
              "      dtype='object')"
            ]
          },
          "metadata": {},
          "execution_count": 50
        }
      ]
    }
  ]
}