{
  "nbformat": 4,
  "nbformat_minor": 0,
  "metadata": {
    "colab": {
      "name": "TEXT ANALLYTICS.ipynb",
      "provenance": [],
      "collapsed_sections": []
    },
    "kernelspec": {
      "name": "python3",
      "display_name": "Python 3"
    },
    "language_info": {
      "name": "python"
    }
  },
  "cells": [
    {
      "cell_type": "code",
      "execution_count": 62,
      "metadata": {
        "id": "QAIXl92c-2Lk"
      },
      "outputs": [],
      "source": [
        "paragraph='''Stalin has come to our village.he will also be discipline.Musk was born to a Canadian mother and White South African father and raised in Pretoria, South Africa. He briefly attended the University of Pretoria before moving to Canada at age 17. He matriculated at Queen's University and transferred to the University of Pennsylvania two years later, where he received a bachelor's degree in Economics and Physics. He moved to California in 1995 to attend Stanford University but decided instead to pursue a business career, co-founding the web software company Zip2 with his brother Kimbal. The startup was acquired by Compaq for $307 million in 1999. The same year, Musk co-founded online bank X.com, which merged with Confinity in 2000 to form PayPal. The company was bought by eBay in 2002 for $1.5 billion.'''"
      ]
    },
    {
      "cell_type": "code",
      "source": [
        "len(paragraph)"
      ],
      "metadata": {
        "colab": {
          "base_uri": "https://localhost:8080/"
        },
        "id": "pCHpdnhI_r-b",
        "outputId": "5aa49b71-d6d5-4b2c-a1cc-97621e25d50f"
      },
      "execution_count": 63,
      "outputs": [
        {
          "output_type": "execute_result",
          "data": {
            "text/plain": [
              "809"
            ]
          },
          "metadata": {},
          "execution_count": 63
        }
      ]
    },
    {
      "cell_type": "code",
      "source": [
        "import nltk"
      ],
      "metadata": {
        "id": "CarGzD7oAUym"
      },
      "execution_count": 64,
      "outputs": []
    },
    {
      "cell_type": "code",
      "source": [
        "!pip install nltk"
      ],
      "metadata": {
        "colab": {
          "base_uri": "https://localhost:8080/"
        },
        "id": "IbTVQ1uMFIxj",
        "outputId": "7a692978-89b2-47a1-8db4-950e33affb57"
      },
      "execution_count": 65,
      "outputs": [
        {
          "output_type": "stream",
          "name": "stdout",
          "text": [
            "Requirement already satisfied: nltk in /usr/local/lib/python3.7/dist-packages (3.2.5)\n",
            "Requirement already satisfied: six in /usr/local/lib/python3.7/dist-packages (from nltk) (1.15.0)\n"
          ]
        }
      ]
    },
    {
      "cell_type": "code",
      "source": [
        "nltk.download('punkt')"
      ],
      "metadata": {
        "colab": {
          "base_uri": "https://localhost:8080/"
        },
        "id": "moDWkImxFLOD",
        "outputId": "2f0c7741-ad06-43db-96c0-f18285dab79e"
      },
      "execution_count": 66,
      "outputs": [
        {
          "output_type": "stream",
          "name": "stdout",
          "text": [
            "[nltk_data] Downloading package punkt to /root/nltk_data...\n",
            "[nltk_data]   Package punkt is already up-to-date!\n"
          ]
        },
        {
          "output_type": "execute_result",
          "data": {
            "text/plain": [
              "True"
            ]
          },
          "metadata": {},
          "execution_count": 66
        }
      ]
    },
    {
      "cell_type": "code",
      "source": [
        "paragraph.lower()"
      ],
      "metadata": {
        "colab": {
          "base_uri": "https://localhost:8080/",
          "height": 105
        },
        "id": "UjMh5iT1FSo_",
        "outputId": "d45ec1d3-5365-4eda-8561-740119bbff5c"
      },
      "execution_count": 67,
      "outputs": [
        {
          "output_type": "execute_result",
          "data": {
            "text/plain": [
              "\"stalin has come to our village.he will also be discipline.musk was born to a canadian mother and white south african father and raised in pretoria, south africa. he briefly attended the university of pretoria before moving to canada at age 17. he matriculated at queen's university and transferred to the university of pennsylvania two years later, where he received a bachelor's degree in economics and physics. he moved to california in 1995 to attend stanford university but decided instead to pursue a business career, co-founding the web software company zip2 with his brother kimbal. the startup was acquired by compaq for $307 million in 1999. the same year, musk co-founded online bank x.com, which merged with confinity in 2000 to form paypal. the company was bought by ebay in 2002 for $1.5 billion.\""
            ],
            "application/vnd.google.colaboratory.intrinsic+json": {
              "type": "string"
            }
          },
          "metadata": {},
          "execution_count": 67
        }
      ]
    },
    {
      "cell_type": "code",
      "source": [
        "paragraph.split()"
      ],
      "metadata": {
        "colab": {
          "base_uri": "https://localhost:8080/"
        },
        "id": "D8YwcPTKGSqR",
        "outputId": "cd46229a-819b-4f88-a530-799041b89093"
      },
      "execution_count": 68,
      "outputs": [
        {
          "output_type": "execute_result",
          "data": {
            "text/plain": [
              "['Stalin',\n",
              " 'has',\n",
              " 'come',\n",
              " 'to',\n",
              " 'our',\n",
              " 'village.he',\n",
              " 'will',\n",
              " 'also',\n",
              " 'be',\n",
              " 'discipline.Musk',\n",
              " 'was',\n",
              " 'born',\n",
              " 'to',\n",
              " 'a',\n",
              " 'Canadian',\n",
              " 'mother',\n",
              " 'and',\n",
              " 'White',\n",
              " 'South',\n",
              " 'African',\n",
              " 'father',\n",
              " 'and',\n",
              " 'raised',\n",
              " 'in',\n",
              " 'Pretoria,',\n",
              " 'South',\n",
              " 'Africa.',\n",
              " 'He',\n",
              " 'briefly',\n",
              " 'attended',\n",
              " 'the',\n",
              " 'University',\n",
              " 'of',\n",
              " 'Pretoria',\n",
              " 'before',\n",
              " 'moving',\n",
              " 'to',\n",
              " 'Canada',\n",
              " 'at',\n",
              " 'age',\n",
              " '17.',\n",
              " 'He',\n",
              " 'matriculated',\n",
              " 'at',\n",
              " \"Queen's\",\n",
              " 'University',\n",
              " 'and',\n",
              " 'transferred',\n",
              " 'to',\n",
              " 'the',\n",
              " 'University',\n",
              " 'of',\n",
              " 'Pennsylvania',\n",
              " 'two',\n",
              " 'years',\n",
              " 'later,',\n",
              " 'where',\n",
              " 'he',\n",
              " 'received',\n",
              " 'a',\n",
              " \"bachelor's\",\n",
              " 'degree',\n",
              " 'in',\n",
              " 'Economics',\n",
              " 'and',\n",
              " 'Physics.',\n",
              " 'He',\n",
              " 'moved',\n",
              " 'to',\n",
              " 'California',\n",
              " 'in',\n",
              " '1995',\n",
              " 'to',\n",
              " 'attend',\n",
              " 'Stanford',\n",
              " 'University',\n",
              " 'but',\n",
              " 'decided',\n",
              " 'instead',\n",
              " 'to',\n",
              " 'pursue',\n",
              " 'a',\n",
              " 'business',\n",
              " 'career,',\n",
              " 'co-founding',\n",
              " 'the',\n",
              " 'web',\n",
              " 'software',\n",
              " 'company',\n",
              " 'Zip2',\n",
              " 'with',\n",
              " 'his',\n",
              " 'brother',\n",
              " 'Kimbal.',\n",
              " 'The',\n",
              " 'startup',\n",
              " 'was',\n",
              " 'acquired',\n",
              " 'by',\n",
              " 'Compaq',\n",
              " 'for',\n",
              " '$307',\n",
              " 'million',\n",
              " 'in',\n",
              " '1999.',\n",
              " 'The',\n",
              " 'same',\n",
              " 'year,',\n",
              " 'Musk',\n",
              " 'co-founded',\n",
              " 'online',\n",
              " 'bank',\n",
              " 'X.com,',\n",
              " 'which',\n",
              " 'merged',\n",
              " 'with',\n",
              " 'Confinity',\n",
              " 'in',\n",
              " '2000',\n",
              " 'to',\n",
              " 'form',\n",
              " 'PayPal.',\n",
              " 'The',\n",
              " 'company',\n",
              " 'was',\n",
              " 'bought',\n",
              " 'by',\n",
              " 'eBay',\n",
              " 'in',\n",
              " '2002',\n",
              " 'for',\n",
              " '$1.5',\n",
              " 'billion.']"
            ]
          },
          "metadata": {},
          "execution_count": 68
        }
      ]
    },
    {
      "cell_type": "code",
      "source": [
        "from nltk.tokenize import word_tokenize"
      ],
      "metadata": {
        "id": "IjFxjk_7Gp6x"
      },
      "execution_count": 69,
      "outputs": []
    },
    {
      "cell_type": "code",
      "source": [
        "token = word_tokenize(paragraph)"
      ],
      "metadata": {
        "id": "8LWCYN7LG6nq"
      },
      "execution_count": 70,
      "outputs": []
    },
    {
      "cell_type": "code",
      "source": [
        "token"
      ],
      "metadata": {
        "colab": {
          "base_uri": "https://localhost:8080/"
        },
        "id": "4R4dxJGTHAJx",
        "outputId": "00874f33-d906-41d5-fbce-d099c286477c"
      },
      "execution_count": 71,
      "outputs": [
        {
          "output_type": "execute_result",
          "data": {
            "text/plain": [
              "['Stalin',\n",
              " 'has',\n",
              " 'come',\n",
              " 'to',\n",
              " 'our',\n",
              " 'village.he',\n",
              " 'will',\n",
              " 'also',\n",
              " 'be',\n",
              " 'discipline.Musk',\n",
              " 'was',\n",
              " 'born',\n",
              " 'to',\n",
              " 'a',\n",
              " 'Canadian',\n",
              " 'mother',\n",
              " 'and',\n",
              " 'White',\n",
              " 'South',\n",
              " 'African',\n",
              " 'father',\n",
              " 'and',\n",
              " 'raised',\n",
              " 'in',\n",
              " 'Pretoria',\n",
              " ',',\n",
              " 'South',\n",
              " 'Africa',\n",
              " '.',\n",
              " 'He',\n",
              " 'briefly',\n",
              " 'attended',\n",
              " 'the',\n",
              " 'University',\n",
              " 'of',\n",
              " 'Pretoria',\n",
              " 'before',\n",
              " 'moving',\n",
              " 'to',\n",
              " 'Canada',\n",
              " 'at',\n",
              " 'age',\n",
              " '17',\n",
              " '.',\n",
              " 'He',\n",
              " 'matriculated',\n",
              " 'at',\n",
              " 'Queen',\n",
              " \"'s\",\n",
              " 'University',\n",
              " 'and',\n",
              " 'transferred',\n",
              " 'to',\n",
              " 'the',\n",
              " 'University',\n",
              " 'of',\n",
              " 'Pennsylvania',\n",
              " 'two',\n",
              " 'years',\n",
              " 'later',\n",
              " ',',\n",
              " 'where',\n",
              " 'he',\n",
              " 'received',\n",
              " 'a',\n",
              " 'bachelor',\n",
              " \"'s\",\n",
              " 'degree',\n",
              " 'in',\n",
              " 'Economics',\n",
              " 'and',\n",
              " 'Physics',\n",
              " '.',\n",
              " 'He',\n",
              " 'moved',\n",
              " 'to',\n",
              " 'California',\n",
              " 'in',\n",
              " '1995',\n",
              " 'to',\n",
              " 'attend',\n",
              " 'Stanford',\n",
              " 'University',\n",
              " 'but',\n",
              " 'decided',\n",
              " 'instead',\n",
              " 'to',\n",
              " 'pursue',\n",
              " 'a',\n",
              " 'business',\n",
              " 'career',\n",
              " ',',\n",
              " 'co-founding',\n",
              " 'the',\n",
              " 'web',\n",
              " 'software',\n",
              " 'company',\n",
              " 'Zip2',\n",
              " 'with',\n",
              " 'his',\n",
              " 'brother',\n",
              " 'Kimbal',\n",
              " '.',\n",
              " 'The',\n",
              " 'startup',\n",
              " 'was',\n",
              " 'acquired',\n",
              " 'by',\n",
              " 'Compaq',\n",
              " 'for',\n",
              " '$',\n",
              " '307',\n",
              " 'million',\n",
              " 'in',\n",
              " '1999',\n",
              " '.',\n",
              " 'The',\n",
              " 'same',\n",
              " 'year',\n",
              " ',',\n",
              " 'Musk',\n",
              " 'co-founded',\n",
              " 'online',\n",
              " 'bank',\n",
              " 'X.com',\n",
              " ',',\n",
              " 'which',\n",
              " 'merged',\n",
              " 'with',\n",
              " 'Confinity',\n",
              " 'in',\n",
              " '2000',\n",
              " 'to',\n",
              " 'form',\n",
              " 'PayPal',\n",
              " '.',\n",
              " 'The',\n",
              " 'company',\n",
              " 'was',\n",
              " 'bought',\n",
              " 'by',\n",
              " 'eBay',\n",
              " 'in',\n",
              " '2002',\n",
              " 'for',\n",
              " '$',\n",
              " '1.5',\n",
              " 'billion',\n",
              " '.']"
            ]
          },
          "metadata": {},
          "execution_count": 71
        }
      ]
    },
    {
      "cell_type": "code",
      "source": [
        "from nltk.probability import FreqDist"
      ],
      "metadata": {
        "id": "v6CGu8sIHBC3"
      },
      "execution_count": 72,
      "outputs": []
    },
    {
      "cell_type": "code",
      "source": [
        "fdist= FreqDist(token)"
      ],
      "metadata": {
        "id": "6v4TazW8JOve"
      },
      "execution_count": 73,
      "outputs": []
    },
    {
      "cell_type": "code",
      "source": [
        "fdist"
      ],
      "metadata": {
        "colab": {
          "base_uri": "https://localhost:8080/"
        },
        "id": "M36lZ7HhJScE",
        "outputId": "69f62019-2dd2-46e3-b349-86f31903e95b"
      },
      "execution_count": 74,
      "outputs": [
        {
          "output_type": "execute_result",
          "data": {
            "text/plain": [
              "FreqDist({'$': 2,\n",
              "          \"'s\": 2,\n",
              "          ',': 5,\n",
              "          '.': 7,\n",
              "          '1.5': 1,\n",
              "          '17': 1,\n",
              "          '1995': 1,\n",
              "          '1999': 1,\n",
              "          '2000': 1,\n",
              "          '2002': 1,\n",
              "          '307': 1,\n",
              "          'Africa': 1,\n",
              "          'African': 1,\n",
              "          'California': 1,\n",
              "          'Canada': 1,\n",
              "          'Canadian': 1,\n",
              "          'Compaq': 1,\n",
              "          'Confinity': 1,\n",
              "          'Economics': 1,\n",
              "          'He': 3,\n",
              "          'Kimbal': 1,\n",
              "          'Musk': 1,\n",
              "          'PayPal': 1,\n",
              "          'Pennsylvania': 1,\n",
              "          'Physics': 1,\n",
              "          'Pretoria': 2,\n",
              "          'Queen': 1,\n",
              "          'South': 2,\n",
              "          'Stalin': 1,\n",
              "          'Stanford': 1,\n",
              "          'The': 3,\n",
              "          'University': 4,\n",
              "          'White': 1,\n",
              "          'X.com': 1,\n",
              "          'Zip2': 1,\n",
              "          'a': 3,\n",
              "          'acquired': 1,\n",
              "          'age': 1,\n",
              "          'also': 1,\n",
              "          'and': 4,\n",
              "          'at': 2,\n",
              "          'attend': 1,\n",
              "          'attended': 1,\n",
              "          'bachelor': 1,\n",
              "          'bank': 1,\n",
              "          'be': 1,\n",
              "          'before': 1,\n",
              "          'billion': 1,\n",
              "          'born': 1,\n",
              "          'bought': 1,\n",
              "          'briefly': 1,\n",
              "          'brother': 1,\n",
              "          'business': 1,\n",
              "          'but': 1,\n",
              "          'by': 2,\n",
              "          'career': 1,\n",
              "          'co-founded': 1,\n",
              "          'co-founding': 1,\n",
              "          'come': 1,\n",
              "          'company': 2,\n",
              "          'decided': 1,\n",
              "          'degree': 1,\n",
              "          'discipline.Musk': 1,\n",
              "          'eBay': 1,\n",
              "          'father': 1,\n",
              "          'for': 2,\n",
              "          'form': 1,\n",
              "          'has': 1,\n",
              "          'he': 1,\n",
              "          'his': 1,\n",
              "          'in': 6,\n",
              "          'instead': 1,\n",
              "          'later': 1,\n",
              "          'matriculated': 1,\n",
              "          'merged': 1,\n",
              "          'million': 1,\n",
              "          'mother': 1,\n",
              "          'moved': 1,\n",
              "          'moving': 1,\n",
              "          'of': 2,\n",
              "          'online': 1,\n",
              "          'our': 1,\n",
              "          'pursue': 1,\n",
              "          'raised': 1,\n",
              "          'received': 1,\n",
              "          'same': 1,\n",
              "          'software': 1,\n",
              "          'startup': 1,\n",
              "          'the': 3,\n",
              "          'to': 8,\n",
              "          'transferred': 1,\n",
              "          'two': 1,\n",
              "          'village.he': 1,\n",
              "          'was': 3,\n",
              "          'web': 1,\n",
              "          'where': 1,\n",
              "          'which': 1,\n",
              "          'will': 1,\n",
              "          'with': 2,\n",
              "          'year': 1,\n",
              "          'years': 1})"
            ]
          },
          "metadata": {},
          "execution_count": 74
        }
      ]
    },
    {
      "cell_type": "code",
      "source": [
        "fdist1=fdist.most_common(7)"
      ],
      "metadata": {
        "id": "CMXfNx9fJTaz"
      },
      "execution_count": 75,
      "outputs": []
    },
    {
      "cell_type": "code",
      "source": [
        "fdist1"
      ],
      "metadata": {
        "colab": {
          "base_uri": "https://localhost:8080/"
        },
        "id": "lMZmwDCNKE9p",
        "outputId": "a21b93bc-7157-4090-b1a3-42d398e26a8d"
      },
      "execution_count": 76,
      "outputs": [
        {
          "output_type": "execute_result",
          "data": {
            "text/plain": [
              "[('to', 8),\n",
              " ('.', 7),\n",
              " ('in', 6),\n",
              " (',', 5),\n",
              " ('and', 4),\n",
              " ('University', 4),\n",
              " ('was', 3)]"
            ]
          },
          "metadata": {},
          "execution_count": 76
        }
      ]
    },
    {
      "cell_type": "code",
      "source": [
        "!pip install textblob"
      ],
      "metadata": {
        "colab": {
          "base_uri": "https://localhost:8080/"
        },
        "id": "0t6GxYFmKFvm",
        "outputId": "b80cc244-1867-4e29-b732-52beb7441d0a"
      },
      "execution_count": 77,
      "outputs": [
        {
          "output_type": "stream",
          "name": "stdout",
          "text": [
            "Requirement already satisfied: textblob in /usr/local/lib/python3.7/dist-packages (0.15.3)\n",
            "Requirement already satisfied: nltk>=3.1 in /usr/local/lib/python3.7/dist-packages (from textblob) (3.2.5)\n",
            "Requirement already satisfied: six in /usr/local/lib/python3.7/dist-packages (from nltk>=3.1->textblob) (1.15.0)\n"
          ]
        }
      ]
    },
    {
      "cell_type": "code",
      "source": [
        "import textblob\n",
        "from textblob import TextBlob"
      ],
      "metadata": {
        "id": "fpb0TK3VKgW5"
      },
      "execution_count": 78,
      "outputs": []
    },
    {
      "cell_type": "code",
      "source": [
        "TextBlob(paragraph).ngrams(2)"
      ],
      "metadata": {
        "colab": {
          "base_uri": "https://localhost:8080/"
        },
        "id": "sIK_bymRKjNj",
        "outputId": "61b382b7-198a-4d81-c266-d61709460b56"
      },
      "execution_count": 79,
      "outputs": [
        {
          "output_type": "execute_result",
          "data": {
            "text/plain": [
              "[WordList(['Stalin', 'has']),\n",
              " WordList(['has', 'come']),\n",
              " WordList(['come', 'to']),\n",
              " WordList(['to', 'our']),\n",
              " WordList(['our', 'village.he']),\n",
              " WordList(['village.he', 'will']),\n",
              " WordList(['will', 'also']),\n",
              " WordList(['also', 'be']),\n",
              " WordList(['be', 'discipline.Musk']),\n",
              " WordList(['discipline.Musk', 'was']),\n",
              " WordList(['was', 'born']),\n",
              " WordList(['born', 'to']),\n",
              " WordList(['to', 'a']),\n",
              " WordList(['a', 'Canadian']),\n",
              " WordList(['Canadian', 'mother']),\n",
              " WordList(['mother', 'and']),\n",
              " WordList(['and', 'White']),\n",
              " WordList(['White', 'South']),\n",
              " WordList(['South', 'African']),\n",
              " WordList(['African', 'father']),\n",
              " WordList(['father', 'and']),\n",
              " WordList(['and', 'raised']),\n",
              " WordList(['raised', 'in']),\n",
              " WordList(['in', 'Pretoria']),\n",
              " WordList(['Pretoria', 'South']),\n",
              " WordList(['South', 'Africa']),\n",
              " WordList(['Africa', 'He']),\n",
              " WordList(['He', 'briefly']),\n",
              " WordList(['briefly', 'attended']),\n",
              " WordList(['attended', 'the']),\n",
              " WordList(['the', 'University']),\n",
              " WordList(['University', 'of']),\n",
              " WordList(['of', 'Pretoria']),\n",
              " WordList(['Pretoria', 'before']),\n",
              " WordList(['before', 'moving']),\n",
              " WordList(['moving', 'to']),\n",
              " WordList(['to', 'Canada']),\n",
              " WordList(['Canada', 'at']),\n",
              " WordList(['at', 'age']),\n",
              " WordList(['age', '17']),\n",
              " WordList(['17', 'He']),\n",
              " WordList(['He', 'matriculated']),\n",
              " WordList(['matriculated', 'at']),\n",
              " WordList(['at', 'Queen']),\n",
              " WordList(['Queen', \"'s\"]),\n",
              " WordList([\"'s\", 'University']),\n",
              " WordList(['University', 'and']),\n",
              " WordList(['and', 'transferred']),\n",
              " WordList(['transferred', 'to']),\n",
              " WordList(['to', 'the']),\n",
              " WordList(['the', 'University']),\n",
              " WordList(['University', 'of']),\n",
              " WordList(['of', 'Pennsylvania']),\n",
              " WordList(['Pennsylvania', 'two']),\n",
              " WordList(['two', 'years']),\n",
              " WordList(['years', 'later']),\n",
              " WordList(['later', 'where']),\n",
              " WordList(['where', 'he']),\n",
              " WordList(['he', 'received']),\n",
              " WordList(['received', 'a']),\n",
              " WordList(['a', 'bachelor']),\n",
              " WordList(['bachelor', \"'s\"]),\n",
              " WordList([\"'s\", 'degree']),\n",
              " WordList(['degree', 'in']),\n",
              " WordList(['in', 'Economics']),\n",
              " WordList(['Economics', 'and']),\n",
              " WordList(['and', 'Physics']),\n",
              " WordList(['Physics', 'He']),\n",
              " WordList(['He', 'moved']),\n",
              " WordList(['moved', 'to']),\n",
              " WordList(['to', 'California']),\n",
              " WordList(['California', 'in']),\n",
              " WordList(['in', '1995']),\n",
              " WordList(['1995', 'to']),\n",
              " WordList(['to', 'attend']),\n",
              " WordList(['attend', 'Stanford']),\n",
              " WordList(['Stanford', 'University']),\n",
              " WordList(['University', 'but']),\n",
              " WordList(['but', 'decided']),\n",
              " WordList(['decided', 'instead']),\n",
              " WordList(['instead', 'to']),\n",
              " WordList(['to', 'pursue']),\n",
              " WordList(['pursue', 'a']),\n",
              " WordList(['a', 'business']),\n",
              " WordList(['business', 'career']),\n",
              " WordList(['career', 'co-founding']),\n",
              " WordList(['co-founding', 'the']),\n",
              " WordList(['the', 'web']),\n",
              " WordList(['web', 'software']),\n",
              " WordList(['software', 'company']),\n",
              " WordList(['company', 'Zip2']),\n",
              " WordList(['Zip2', 'with']),\n",
              " WordList(['with', 'his']),\n",
              " WordList(['his', 'brother']),\n",
              " WordList(['brother', 'Kimbal']),\n",
              " WordList(['Kimbal', 'The']),\n",
              " WordList(['The', 'startup']),\n",
              " WordList(['startup', 'was']),\n",
              " WordList(['was', 'acquired']),\n",
              " WordList(['acquired', 'by']),\n",
              " WordList(['by', 'Compaq']),\n",
              " WordList(['Compaq', 'for']),\n",
              " WordList(['for', '307']),\n",
              " WordList(['307', 'million']),\n",
              " WordList(['million', 'in']),\n",
              " WordList(['in', '1999']),\n",
              " WordList(['1999', 'The']),\n",
              " WordList(['The', 'same']),\n",
              " WordList(['same', 'year']),\n",
              " WordList(['year', 'Musk']),\n",
              " WordList(['Musk', 'co-founded']),\n",
              " WordList(['co-founded', 'online']),\n",
              " WordList(['online', 'bank']),\n",
              " WordList(['bank', 'X.com']),\n",
              " WordList(['X.com', 'which']),\n",
              " WordList(['which', 'merged']),\n",
              " WordList(['merged', 'with']),\n",
              " WordList(['with', 'Confinity']),\n",
              " WordList(['Confinity', 'in']),\n",
              " WordList(['in', '2000']),\n",
              " WordList(['2000', 'to']),\n",
              " WordList(['to', 'form']),\n",
              " WordList(['form', 'PayPal']),\n",
              " WordList(['PayPal', 'The']),\n",
              " WordList(['The', 'company']),\n",
              " WordList(['company', 'was']),\n",
              " WordList(['was', 'bought']),\n",
              " WordList(['bought', 'by']),\n",
              " WordList(['by', 'eBay']),\n",
              " WordList(['eBay', 'in']),\n",
              " WordList(['in', '2002']),\n",
              " WordList(['2002', 'for']),\n",
              " WordList(['for', '1.5']),\n",
              " WordList(['1.5', 'billion'])]"
            ]
          },
          "metadata": {},
          "execution_count": 79
        }
      ]
    },
    {
      "cell_type": "code",
      "source": [
        "TextBlob(paragraph).ngrams(3)"
      ],
      "metadata": {
        "colab": {
          "base_uri": "https://localhost:8080/"
        },
        "id": "-b9sbJ1ZLSIK",
        "outputId": "fc61955d-c243-45d2-d3ed-caabcc440499"
      },
      "execution_count": 80,
      "outputs": [
        {
          "output_type": "execute_result",
          "data": {
            "text/plain": [
              "[WordList(['Stalin', 'has', 'come']),\n",
              " WordList(['has', 'come', 'to']),\n",
              " WordList(['come', 'to', 'our']),\n",
              " WordList(['to', 'our', 'village.he']),\n",
              " WordList(['our', 'village.he', 'will']),\n",
              " WordList(['village.he', 'will', 'also']),\n",
              " WordList(['will', 'also', 'be']),\n",
              " WordList(['also', 'be', 'discipline.Musk']),\n",
              " WordList(['be', 'discipline.Musk', 'was']),\n",
              " WordList(['discipline.Musk', 'was', 'born']),\n",
              " WordList(['was', 'born', 'to']),\n",
              " WordList(['born', 'to', 'a']),\n",
              " WordList(['to', 'a', 'Canadian']),\n",
              " WordList(['a', 'Canadian', 'mother']),\n",
              " WordList(['Canadian', 'mother', 'and']),\n",
              " WordList(['mother', 'and', 'White']),\n",
              " WordList(['and', 'White', 'South']),\n",
              " WordList(['White', 'South', 'African']),\n",
              " WordList(['South', 'African', 'father']),\n",
              " WordList(['African', 'father', 'and']),\n",
              " WordList(['father', 'and', 'raised']),\n",
              " WordList(['and', 'raised', 'in']),\n",
              " WordList(['raised', 'in', 'Pretoria']),\n",
              " WordList(['in', 'Pretoria', 'South']),\n",
              " WordList(['Pretoria', 'South', 'Africa']),\n",
              " WordList(['South', 'Africa', 'He']),\n",
              " WordList(['Africa', 'He', 'briefly']),\n",
              " WordList(['He', 'briefly', 'attended']),\n",
              " WordList(['briefly', 'attended', 'the']),\n",
              " WordList(['attended', 'the', 'University']),\n",
              " WordList(['the', 'University', 'of']),\n",
              " WordList(['University', 'of', 'Pretoria']),\n",
              " WordList(['of', 'Pretoria', 'before']),\n",
              " WordList(['Pretoria', 'before', 'moving']),\n",
              " WordList(['before', 'moving', 'to']),\n",
              " WordList(['moving', 'to', 'Canada']),\n",
              " WordList(['to', 'Canada', 'at']),\n",
              " WordList(['Canada', 'at', 'age']),\n",
              " WordList(['at', 'age', '17']),\n",
              " WordList(['age', '17', 'He']),\n",
              " WordList(['17', 'He', 'matriculated']),\n",
              " WordList(['He', 'matriculated', 'at']),\n",
              " WordList(['matriculated', 'at', 'Queen']),\n",
              " WordList(['at', 'Queen', \"'s\"]),\n",
              " WordList(['Queen', \"'s\", 'University']),\n",
              " WordList([\"'s\", 'University', 'and']),\n",
              " WordList(['University', 'and', 'transferred']),\n",
              " WordList(['and', 'transferred', 'to']),\n",
              " WordList(['transferred', 'to', 'the']),\n",
              " WordList(['to', 'the', 'University']),\n",
              " WordList(['the', 'University', 'of']),\n",
              " WordList(['University', 'of', 'Pennsylvania']),\n",
              " WordList(['of', 'Pennsylvania', 'two']),\n",
              " WordList(['Pennsylvania', 'two', 'years']),\n",
              " WordList(['two', 'years', 'later']),\n",
              " WordList(['years', 'later', 'where']),\n",
              " WordList(['later', 'where', 'he']),\n",
              " WordList(['where', 'he', 'received']),\n",
              " WordList(['he', 'received', 'a']),\n",
              " WordList(['received', 'a', 'bachelor']),\n",
              " WordList(['a', 'bachelor', \"'s\"]),\n",
              " WordList(['bachelor', \"'s\", 'degree']),\n",
              " WordList([\"'s\", 'degree', 'in']),\n",
              " WordList(['degree', 'in', 'Economics']),\n",
              " WordList(['in', 'Economics', 'and']),\n",
              " WordList(['Economics', 'and', 'Physics']),\n",
              " WordList(['and', 'Physics', 'He']),\n",
              " WordList(['Physics', 'He', 'moved']),\n",
              " WordList(['He', 'moved', 'to']),\n",
              " WordList(['moved', 'to', 'California']),\n",
              " WordList(['to', 'California', 'in']),\n",
              " WordList(['California', 'in', '1995']),\n",
              " WordList(['in', '1995', 'to']),\n",
              " WordList(['1995', 'to', 'attend']),\n",
              " WordList(['to', 'attend', 'Stanford']),\n",
              " WordList(['attend', 'Stanford', 'University']),\n",
              " WordList(['Stanford', 'University', 'but']),\n",
              " WordList(['University', 'but', 'decided']),\n",
              " WordList(['but', 'decided', 'instead']),\n",
              " WordList(['decided', 'instead', 'to']),\n",
              " WordList(['instead', 'to', 'pursue']),\n",
              " WordList(['to', 'pursue', 'a']),\n",
              " WordList(['pursue', 'a', 'business']),\n",
              " WordList(['a', 'business', 'career']),\n",
              " WordList(['business', 'career', 'co-founding']),\n",
              " WordList(['career', 'co-founding', 'the']),\n",
              " WordList(['co-founding', 'the', 'web']),\n",
              " WordList(['the', 'web', 'software']),\n",
              " WordList(['web', 'software', 'company']),\n",
              " WordList(['software', 'company', 'Zip2']),\n",
              " WordList(['company', 'Zip2', 'with']),\n",
              " WordList(['Zip2', 'with', 'his']),\n",
              " WordList(['with', 'his', 'brother']),\n",
              " WordList(['his', 'brother', 'Kimbal']),\n",
              " WordList(['brother', 'Kimbal', 'The']),\n",
              " WordList(['Kimbal', 'The', 'startup']),\n",
              " WordList(['The', 'startup', 'was']),\n",
              " WordList(['startup', 'was', 'acquired']),\n",
              " WordList(['was', 'acquired', 'by']),\n",
              " WordList(['acquired', 'by', 'Compaq']),\n",
              " WordList(['by', 'Compaq', 'for']),\n",
              " WordList(['Compaq', 'for', '307']),\n",
              " WordList(['for', '307', 'million']),\n",
              " WordList(['307', 'million', 'in']),\n",
              " WordList(['million', 'in', '1999']),\n",
              " WordList(['in', '1999', 'The']),\n",
              " WordList(['1999', 'The', 'same']),\n",
              " WordList(['The', 'same', 'year']),\n",
              " WordList(['same', 'year', 'Musk']),\n",
              " WordList(['year', 'Musk', 'co-founded']),\n",
              " WordList(['Musk', 'co-founded', 'online']),\n",
              " WordList(['co-founded', 'online', 'bank']),\n",
              " WordList(['online', 'bank', 'X.com']),\n",
              " WordList(['bank', 'X.com', 'which']),\n",
              " WordList(['X.com', 'which', 'merged']),\n",
              " WordList(['which', 'merged', 'with']),\n",
              " WordList(['merged', 'with', 'Confinity']),\n",
              " WordList(['with', 'Confinity', 'in']),\n",
              " WordList(['Confinity', 'in', '2000']),\n",
              " WordList(['in', '2000', 'to']),\n",
              " WordList(['2000', 'to', 'form']),\n",
              " WordList(['to', 'form', 'PayPal']),\n",
              " WordList(['form', 'PayPal', 'The']),\n",
              " WordList(['PayPal', 'The', 'company']),\n",
              " WordList(['The', 'company', 'was']),\n",
              " WordList(['company', 'was', 'bought']),\n",
              " WordList(['was', 'bought', 'by']),\n",
              " WordList(['bought', 'by', 'eBay']),\n",
              " WordList(['by', 'eBay', 'in']),\n",
              " WordList(['eBay', 'in', '2002']),\n",
              " WordList(['in', '2002', 'for']),\n",
              " WordList(['2002', 'for', '1.5']),\n",
              " WordList(['for', '1.5', 'billion'])]"
            ]
          },
          "metadata": {},
          "execution_count": 80
        }
      ]
    },
    {
      "cell_type": "code",
      "source": [
        "TextBlob(paragraph).ngrams(4)"
      ],
      "metadata": {
        "colab": {
          "base_uri": "https://localhost:8080/"
        },
        "id": "GlUm5qjHLaMw",
        "outputId": "f8c97f7b-3434-4f8a-e858-6261db076834"
      },
      "execution_count": 81,
      "outputs": [
        {
          "output_type": "execute_result",
          "data": {
            "text/plain": [
              "[WordList(['Stalin', 'has', 'come', 'to']),\n",
              " WordList(['has', 'come', 'to', 'our']),\n",
              " WordList(['come', 'to', 'our', 'village.he']),\n",
              " WordList(['to', 'our', 'village.he', 'will']),\n",
              " WordList(['our', 'village.he', 'will', 'also']),\n",
              " WordList(['village.he', 'will', 'also', 'be']),\n",
              " WordList(['will', 'also', 'be', 'discipline.Musk']),\n",
              " WordList(['also', 'be', 'discipline.Musk', 'was']),\n",
              " WordList(['be', 'discipline.Musk', 'was', 'born']),\n",
              " WordList(['discipline.Musk', 'was', 'born', 'to']),\n",
              " WordList(['was', 'born', 'to', 'a']),\n",
              " WordList(['born', 'to', 'a', 'Canadian']),\n",
              " WordList(['to', 'a', 'Canadian', 'mother']),\n",
              " WordList(['a', 'Canadian', 'mother', 'and']),\n",
              " WordList(['Canadian', 'mother', 'and', 'White']),\n",
              " WordList(['mother', 'and', 'White', 'South']),\n",
              " WordList(['and', 'White', 'South', 'African']),\n",
              " WordList(['White', 'South', 'African', 'father']),\n",
              " WordList(['South', 'African', 'father', 'and']),\n",
              " WordList(['African', 'father', 'and', 'raised']),\n",
              " WordList(['father', 'and', 'raised', 'in']),\n",
              " WordList(['and', 'raised', 'in', 'Pretoria']),\n",
              " WordList(['raised', 'in', 'Pretoria', 'South']),\n",
              " WordList(['in', 'Pretoria', 'South', 'Africa']),\n",
              " WordList(['Pretoria', 'South', 'Africa', 'He']),\n",
              " WordList(['South', 'Africa', 'He', 'briefly']),\n",
              " WordList(['Africa', 'He', 'briefly', 'attended']),\n",
              " WordList(['He', 'briefly', 'attended', 'the']),\n",
              " WordList(['briefly', 'attended', 'the', 'University']),\n",
              " WordList(['attended', 'the', 'University', 'of']),\n",
              " WordList(['the', 'University', 'of', 'Pretoria']),\n",
              " WordList(['University', 'of', 'Pretoria', 'before']),\n",
              " WordList(['of', 'Pretoria', 'before', 'moving']),\n",
              " WordList(['Pretoria', 'before', 'moving', 'to']),\n",
              " WordList(['before', 'moving', 'to', 'Canada']),\n",
              " WordList(['moving', 'to', 'Canada', 'at']),\n",
              " WordList(['to', 'Canada', 'at', 'age']),\n",
              " WordList(['Canada', 'at', 'age', '17']),\n",
              " WordList(['at', 'age', '17', 'He']),\n",
              " WordList(['age', '17', 'He', 'matriculated']),\n",
              " WordList(['17', 'He', 'matriculated', 'at']),\n",
              " WordList(['He', 'matriculated', 'at', 'Queen']),\n",
              " WordList(['matriculated', 'at', 'Queen', \"'s\"]),\n",
              " WordList(['at', 'Queen', \"'s\", 'University']),\n",
              " WordList(['Queen', \"'s\", 'University', 'and']),\n",
              " WordList([\"'s\", 'University', 'and', 'transferred']),\n",
              " WordList(['University', 'and', 'transferred', 'to']),\n",
              " WordList(['and', 'transferred', 'to', 'the']),\n",
              " WordList(['transferred', 'to', 'the', 'University']),\n",
              " WordList(['to', 'the', 'University', 'of']),\n",
              " WordList(['the', 'University', 'of', 'Pennsylvania']),\n",
              " WordList(['University', 'of', 'Pennsylvania', 'two']),\n",
              " WordList(['of', 'Pennsylvania', 'two', 'years']),\n",
              " WordList(['Pennsylvania', 'two', 'years', 'later']),\n",
              " WordList(['two', 'years', 'later', 'where']),\n",
              " WordList(['years', 'later', 'where', 'he']),\n",
              " WordList(['later', 'where', 'he', 'received']),\n",
              " WordList(['where', 'he', 'received', 'a']),\n",
              " WordList(['he', 'received', 'a', 'bachelor']),\n",
              " WordList(['received', 'a', 'bachelor', \"'s\"]),\n",
              " WordList(['a', 'bachelor', \"'s\", 'degree']),\n",
              " WordList(['bachelor', \"'s\", 'degree', 'in']),\n",
              " WordList([\"'s\", 'degree', 'in', 'Economics']),\n",
              " WordList(['degree', 'in', 'Economics', 'and']),\n",
              " WordList(['in', 'Economics', 'and', 'Physics']),\n",
              " WordList(['Economics', 'and', 'Physics', 'He']),\n",
              " WordList(['and', 'Physics', 'He', 'moved']),\n",
              " WordList(['Physics', 'He', 'moved', 'to']),\n",
              " WordList(['He', 'moved', 'to', 'California']),\n",
              " WordList(['moved', 'to', 'California', 'in']),\n",
              " WordList(['to', 'California', 'in', '1995']),\n",
              " WordList(['California', 'in', '1995', 'to']),\n",
              " WordList(['in', '1995', 'to', 'attend']),\n",
              " WordList(['1995', 'to', 'attend', 'Stanford']),\n",
              " WordList(['to', 'attend', 'Stanford', 'University']),\n",
              " WordList(['attend', 'Stanford', 'University', 'but']),\n",
              " WordList(['Stanford', 'University', 'but', 'decided']),\n",
              " WordList(['University', 'but', 'decided', 'instead']),\n",
              " WordList(['but', 'decided', 'instead', 'to']),\n",
              " WordList(['decided', 'instead', 'to', 'pursue']),\n",
              " WordList(['instead', 'to', 'pursue', 'a']),\n",
              " WordList(['to', 'pursue', 'a', 'business']),\n",
              " WordList(['pursue', 'a', 'business', 'career']),\n",
              " WordList(['a', 'business', 'career', 'co-founding']),\n",
              " WordList(['business', 'career', 'co-founding', 'the']),\n",
              " WordList(['career', 'co-founding', 'the', 'web']),\n",
              " WordList(['co-founding', 'the', 'web', 'software']),\n",
              " WordList(['the', 'web', 'software', 'company']),\n",
              " WordList(['web', 'software', 'company', 'Zip2']),\n",
              " WordList(['software', 'company', 'Zip2', 'with']),\n",
              " WordList(['company', 'Zip2', 'with', 'his']),\n",
              " WordList(['Zip2', 'with', 'his', 'brother']),\n",
              " WordList(['with', 'his', 'brother', 'Kimbal']),\n",
              " WordList(['his', 'brother', 'Kimbal', 'The']),\n",
              " WordList(['brother', 'Kimbal', 'The', 'startup']),\n",
              " WordList(['Kimbal', 'The', 'startup', 'was']),\n",
              " WordList(['The', 'startup', 'was', 'acquired']),\n",
              " WordList(['startup', 'was', 'acquired', 'by']),\n",
              " WordList(['was', 'acquired', 'by', 'Compaq']),\n",
              " WordList(['acquired', 'by', 'Compaq', 'for']),\n",
              " WordList(['by', 'Compaq', 'for', '307']),\n",
              " WordList(['Compaq', 'for', '307', 'million']),\n",
              " WordList(['for', '307', 'million', 'in']),\n",
              " WordList(['307', 'million', 'in', '1999']),\n",
              " WordList(['million', 'in', '1999', 'The']),\n",
              " WordList(['in', '1999', 'The', 'same']),\n",
              " WordList(['1999', 'The', 'same', 'year']),\n",
              " WordList(['The', 'same', 'year', 'Musk']),\n",
              " WordList(['same', 'year', 'Musk', 'co-founded']),\n",
              " WordList(['year', 'Musk', 'co-founded', 'online']),\n",
              " WordList(['Musk', 'co-founded', 'online', 'bank']),\n",
              " WordList(['co-founded', 'online', 'bank', 'X.com']),\n",
              " WordList(['online', 'bank', 'X.com', 'which']),\n",
              " WordList(['bank', 'X.com', 'which', 'merged']),\n",
              " WordList(['X.com', 'which', 'merged', 'with']),\n",
              " WordList(['which', 'merged', 'with', 'Confinity']),\n",
              " WordList(['merged', 'with', 'Confinity', 'in']),\n",
              " WordList(['with', 'Confinity', 'in', '2000']),\n",
              " WordList(['Confinity', 'in', '2000', 'to']),\n",
              " WordList(['in', '2000', 'to', 'form']),\n",
              " WordList(['2000', 'to', 'form', 'PayPal']),\n",
              " WordList(['to', 'form', 'PayPal', 'The']),\n",
              " WordList(['form', 'PayPal', 'The', 'company']),\n",
              " WordList(['PayPal', 'The', 'company', 'was']),\n",
              " WordList(['The', 'company', 'was', 'bought']),\n",
              " WordList(['company', 'was', 'bought', 'by']),\n",
              " WordList(['was', 'bought', 'by', 'eBay']),\n",
              " WordList(['bought', 'by', 'eBay', 'in']),\n",
              " WordList(['by', 'eBay', 'in', '2002']),\n",
              " WordList(['eBay', 'in', '2002', 'for']),\n",
              " WordList(['in', '2002', 'for', '1.5']),\n",
              " WordList(['2002', 'for', '1.5', 'billion'])]"
            ]
          },
          "metadata": {},
          "execution_count": 81
        }
      ]
    },
    {
      "cell_type": "code",
      "source": [
        "TextBlob(paragraph).ngrams(5)"
      ],
      "metadata": {
        "colab": {
          "base_uri": "https://localhost:8080/"
        },
        "id": "ucVOUfvtLd0l",
        "outputId": "21cf4cc9-7a8d-46eb-cab2-6d10a562f197"
      },
      "execution_count": 82,
      "outputs": [
        {
          "output_type": "execute_result",
          "data": {
            "text/plain": [
              "[WordList(['Stalin', 'has', 'come', 'to', 'our']),\n",
              " WordList(['has', 'come', 'to', 'our', 'village.he']),\n",
              " WordList(['come', 'to', 'our', 'village.he', 'will']),\n",
              " WordList(['to', 'our', 'village.he', 'will', 'also']),\n",
              " WordList(['our', 'village.he', 'will', 'also', 'be']),\n",
              " WordList(['village.he', 'will', 'also', 'be', 'discipline.Musk']),\n",
              " WordList(['will', 'also', 'be', 'discipline.Musk', 'was']),\n",
              " WordList(['also', 'be', 'discipline.Musk', 'was', 'born']),\n",
              " WordList(['be', 'discipline.Musk', 'was', 'born', 'to']),\n",
              " WordList(['discipline.Musk', 'was', 'born', 'to', 'a']),\n",
              " WordList(['was', 'born', 'to', 'a', 'Canadian']),\n",
              " WordList(['born', 'to', 'a', 'Canadian', 'mother']),\n",
              " WordList(['to', 'a', 'Canadian', 'mother', 'and']),\n",
              " WordList(['a', 'Canadian', 'mother', 'and', 'White']),\n",
              " WordList(['Canadian', 'mother', 'and', 'White', 'South']),\n",
              " WordList(['mother', 'and', 'White', 'South', 'African']),\n",
              " WordList(['and', 'White', 'South', 'African', 'father']),\n",
              " WordList(['White', 'South', 'African', 'father', 'and']),\n",
              " WordList(['South', 'African', 'father', 'and', 'raised']),\n",
              " WordList(['African', 'father', 'and', 'raised', 'in']),\n",
              " WordList(['father', 'and', 'raised', 'in', 'Pretoria']),\n",
              " WordList(['and', 'raised', 'in', 'Pretoria', 'South']),\n",
              " WordList(['raised', 'in', 'Pretoria', 'South', 'Africa']),\n",
              " WordList(['in', 'Pretoria', 'South', 'Africa', 'He']),\n",
              " WordList(['Pretoria', 'South', 'Africa', 'He', 'briefly']),\n",
              " WordList(['South', 'Africa', 'He', 'briefly', 'attended']),\n",
              " WordList(['Africa', 'He', 'briefly', 'attended', 'the']),\n",
              " WordList(['He', 'briefly', 'attended', 'the', 'University']),\n",
              " WordList(['briefly', 'attended', 'the', 'University', 'of']),\n",
              " WordList(['attended', 'the', 'University', 'of', 'Pretoria']),\n",
              " WordList(['the', 'University', 'of', 'Pretoria', 'before']),\n",
              " WordList(['University', 'of', 'Pretoria', 'before', 'moving']),\n",
              " WordList(['of', 'Pretoria', 'before', 'moving', 'to']),\n",
              " WordList(['Pretoria', 'before', 'moving', 'to', 'Canada']),\n",
              " WordList(['before', 'moving', 'to', 'Canada', 'at']),\n",
              " WordList(['moving', 'to', 'Canada', 'at', 'age']),\n",
              " WordList(['to', 'Canada', 'at', 'age', '17']),\n",
              " WordList(['Canada', 'at', 'age', '17', 'He']),\n",
              " WordList(['at', 'age', '17', 'He', 'matriculated']),\n",
              " WordList(['age', '17', 'He', 'matriculated', 'at']),\n",
              " WordList(['17', 'He', 'matriculated', 'at', 'Queen']),\n",
              " WordList(['He', 'matriculated', 'at', 'Queen', \"'s\"]),\n",
              " WordList(['matriculated', 'at', 'Queen', \"'s\", 'University']),\n",
              " WordList(['at', 'Queen', \"'s\", 'University', 'and']),\n",
              " WordList(['Queen', \"'s\", 'University', 'and', 'transferred']),\n",
              " WordList([\"'s\", 'University', 'and', 'transferred', 'to']),\n",
              " WordList(['University', 'and', 'transferred', 'to', 'the']),\n",
              " WordList(['and', 'transferred', 'to', 'the', 'University']),\n",
              " WordList(['transferred', 'to', 'the', 'University', 'of']),\n",
              " WordList(['to', 'the', 'University', 'of', 'Pennsylvania']),\n",
              " WordList(['the', 'University', 'of', 'Pennsylvania', 'two']),\n",
              " WordList(['University', 'of', 'Pennsylvania', 'two', 'years']),\n",
              " WordList(['of', 'Pennsylvania', 'two', 'years', 'later']),\n",
              " WordList(['Pennsylvania', 'two', 'years', 'later', 'where']),\n",
              " WordList(['two', 'years', 'later', 'where', 'he']),\n",
              " WordList(['years', 'later', 'where', 'he', 'received']),\n",
              " WordList(['later', 'where', 'he', 'received', 'a']),\n",
              " WordList(['where', 'he', 'received', 'a', 'bachelor']),\n",
              " WordList(['he', 'received', 'a', 'bachelor', \"'s\"]),\n",
              " WordList(['received', 'a', 'bachelor', \"'s\", 'degree']),\n",
              " WordList(['a', 'bachelor', \"'s\", 'degree', 'in']),\n",
              " WordList(['bachelor', \"'s\", 'degree', 'in', 'Economics']),\n",
              " WordList([\"'s\", 'degree', 'in', 'Economics', 'and']),\n",
              " WordList(['degree', 'in', 'Economics', 'and', 'Physics']),\n",
              " WordList(['in', 'Economics', 'and', 'Physics', 'He']),\n",
              " WordList(['Economics', 'and', 'Physics', 'He', 'moved']),\n",
              " WordList(['and', 'Physics', 'He', 'moved', 'to']),\n",
              " WordList(['Physics', 'He', 'moved', 'to', 'California']),\n",
              " WordList(['He', 'moved', 'to', 'California', 'in']),\n",
              " WordList(['moved', 'to', 'California', 'in', '1995']),\n",
              " WordList(['to', 'California', 'in', '1995', 'to']),\n",
              " WordList(['California', 'in', '1995', 'to', 'attend']),\n",
              " WordList(['in', '1995', 'to', 'attend', 'Stanford']),\n",
              " WordList(['1995', 'to', 'attend', 'Stanford', 'University']),\n",
              " WordList(['to', 'attend', 'Stanford', 'University', 'but']),\n",
              " WordList(['attend', 'Stanford', 'University', 'but', 'decided']),\n",
              " WordList(['Stanford', 'University', 'but', 'decided', 'instead']),\n",
              " WordList(['University', 'but', 'decided', 'instead', 'to']),\n",
              " WordList(['but', 'decided', 'instead', 'to', 'pursue']),\n",
              " WordList(['decided', 'instead', 'to', 'pursue', 'a']),\n",
              " WordList(['instead', 'to', 'pursue', 'a', 'business']),\n",
              " WordList(['to', 'pursue', 'a', 'business', 'career']),\n",
              " WordList(['pursue', 'a', 'business', 'career', 'co-founding']),\n",
              " WordList(['a', 'business', 'career', 'co-founding', 'the']),\n",
              " WordList(['business', 'career', 'co-founding', 'the', 'web']),\n",
              " WordList(['career', 'co-founding', 'the', 'web', 'software']),\n",
              " WordList(['co-founding', 'the', 'web', 'software', 'company']),\n",
              " WordList(['the', 'web', 'software', 'company', 'Zip2']),\n",
              " WordList(['web', 'software', 'company', 'Zip2', 'with']),\n",
              " WordList(['software', 'company', 'Zip2', 'with', 'his']),\n",
              " WordList(['company', 'Zip2', 'with', 'his', 'brother']),\n",
              " WordList(['Zip2', 'with', 'his', 'brother', 'Kimbal']),\n",
              " WordList(['with', 'his', 'brother', 'Kimbal', 'The']),\n",
              " WordList(['his', 'brother', 'Kimbal', 'The', 'startup']),\n",
              " WordList(['brother', 'Kimbal', 'The', 'startup', 'was']),\n",
              " WordList(['Kimbal', 'The', 'startup', 'was', 'acquired']),\n",
              " WordList(['The', 'startup', 'was', 'acquired', 'by']),\n",
              " WordList(['startup', 'was', 'acquired', 'by', 'Compaq']),\n",
              " WordList(['was', 'acquired', 'by', 'Compaq', 'for']),\n",
              " WordList(['acquired', 'by', 'Compaq', 'for', '307']),\n",
              " WordList(['by', 'Compaq', 'for', '307', 'million']),\n",
              " WordList(['Compaq', 'for', '307', 'million', 'in']),\n",
              " WordList(['for', '307', 'million', 'in', '1999']),\n",
              " WordList(['307', 'million', 'in', '1999', 'The']),\n",
              " WordList(['million', 'in', '1999', 'The', 'same']),\n",
              " WordList(['in', '1999', 'The', 'same', 'year']),\n",
              " WordList(['1999', 'The', 'same', 'year', 'Musk']),\n",
              " WordList(['The', 'same', 'year', 'Musk', 'co-founded']),\n",
              " WordList(['same', 'year', 'Musk', 'co-founded', 'online']),\n",
              " WordList(['year', 'Musk', 'co-founded', 'online', 'bank']),\n",
              " WordList(['Musk', 'co-founded', 'online', 'bank', 'X.com']),\n",
              " WordList(['co-founded', 'online', 'bank', 'X.com', 'which']),\n",
              " WordList(['online', 'bank', 'X.com', 'which', 'merged']),\n",
              " WordList(['bank', 'X.com', 'which', 'merged', 'with']),\n",
              " WordList(['X.com', 'which', 'merged', 'with', 'Confinity']),\n",
              " WordList(['which', 'merged', 'with', 'Confinity', 'in']),\n",
              " WordList(['merged', 'with', 'Confinity', 'in', '2000']),\n",
              " WordList(['with', 'Confinity', 'in', '2000', 'to']),\n",
              " WordList(['Confinity', 'in', '2000', 'to', 'form']),\n",
              " WordList(['in', '2000', 'to', 'form', 'PayPal']),\n",
              " WordList(['2000', 'to', 'form', 'PayPal', 'The']),\n",
              " WordList(['to', 'form', 'PayPal', 'The', 'company']),\n",
              " WordList(['form', 'PayPal', 'The', 'company', 'was']),\n",
              " WordList(['PayPal', 'The', 'company', 'was', 'bought']),\n",
              " WordList(['The', 'company', 'was', 'bought', 'by']),\n",
              " WordList(['company', 'was', 'bought', 'by', 'eBay']),\n",
              " WordList(['was', 'bought', 'by', 'eBay', 'in']),\n",
              " WordList(['bought', 'by', 'eBay', 'in', '2002']),\n",
              " WordList(['by', 'eBay', 'in', '2002', 'for']),\n",
              " WordList(['eBay', 'in', '2002', 'for', '1.5']),\n",
              " WordList(['in', '2002', 'for', '1.5', 'billion'])]"
            ]
          },
          "metadata": {},
          "execution_count": 82
        }
      ]
    },
    {
      "cell_type": "code",
      "source": [
        "TextBlob(paragraph).ngrams(6)"
      ],
      "metadata": {
        "colab": {
          "base_uri": "https://localhost:8080/"
        },
        "id": "3Tw2nHvwMOAE",
        "outputId": "afd4b139-ccdc-4cfb-8f59-2136703a6881"
      },
      "execution_count": 83,
      "outputs": [
        {
          "output_type": "execute_result",
          "data": {
            "text/plain": [
              "[WordList(['Stalin', 'has', 'come', 'to', 'our', 'village.he']),\n",
              " WordList(['has', 'come', 'to', 'our', 'village.he', 'will']),\n",
              " WordList(['come', 'to', 'our', 'village.he', 'will', 'also']),\n",
              " WordList(['to', 'our', 'village.he', 'will', 'also', 'be']),\n",
              " WordList(['our', 'village.he', 'will', 'also', 'be', 'discipline.Musk']),\n",
              " WordList(['village.he', 'will', 'also', 'be', 'discipline.Musk', 'was']),\n",
              " WordList(['will', 'also', 'be', 'discipline.Musk', 'was', 'born']),\n",
              " WordList(['also', 'be', 'discipline.Musk', 'was', 'born', 'to']),\n",
              " WordList(['be', 'discipline.Musk', 'was', 'born', 'to', 'a']),\n",
              " WordList(['discipline.Musk', 'was', 'born', 'to', 'a', 'Canadian']),\n",
              " WordList(['was', 'born', 'to', 'a', 'Canadian', 'mother']),\n",
              " WordList(['born', 'to', 'a', 'Canadian', 'mother', 'and']),\n",
              " WordList(['to', 'a', 'Canadian', 'mother', 'and', 'White']),\n",
              " WordList(['a', 'Canadian', 'mother', 'and', 'White', 'South']),\n",
              " WordList(['Canadian', 'mother', 'and', 'White', 'South', 'African']),\n",
              " WordList(['mother', 'and', 'White', 'South', 'African', 'father']),\n",
              " WordList(['and', 'White', 'South', 'African', 'father', 'and']),\n",
              " WordList(['White', 'South', 'African', 'father', 'and', 'raised']),\n",
              " WordList(['South', 'African', 'father', 'and', 'raised', 'in']),\n",
              " WordList(['African', 'father', 'and', 'raised', 'in', 'Pretoria']),\n",
              " WordList(['father', 'and', 'raised', 'in', 'Pretoria', 'South']),\n",
              " WordList(['and', 'raised', 'in', 'Pretoria', 'South', 'Africa']),\n",
              " WordList(['raised', 'in', 'Pretoria', 'South', 'Africa', 'He']),\n",
              " WordList(['in', 'Pretoria', 'South', 'Africa', 'He', 'briefly']),\n",
              " WordList(['Pretoria', 'South', 'Africa', 'He', 'briefly', 'attended']),\n",
              " WordList(['South', 'Africa', 'He', 'briefly', 'attended', 'the']),\n",
              " WordList(['Africa', 'He', 'briefly', 'attended', 'the', 'University']),\n",
              " WordList(['He', 'briefly', 'attended', 'the', 'University', 'of']),\n",
              " WordList(['briefly', 'attended', 'the', 'University', 'of', 'Pretoria']),\n",
              " WordList(['attended', 'the', 'University', 'of', 'Pretoria', 'before']),\n",
              " WordList(['the', 'University', 'of', 'Pretoria', 'before', 'moving']),\n",
              " WordList(['University', 'of', 'Pretoria', 'before', 'moving', 'to']),\n",
              " WordList(['of', 'Pretoria', 'before', 'moving', 'to', 'Canada']),\n",
              " WordList(['Pretoria', 'before', 'moving', 'to', 'Canada', 'at']),\n",
              " WordList(['before', 'moving', 'to', 'Canada', 'at', 'age']),\n",
              " WordList(['moving', 'to', 'Canada', 'at', 'age', '17']),\n",
              " WordList(['to', 'Canada', 'at', 'age', '17', 'He']),\n",
              " WordList(['Canada', 'at', 'age', '17', 'He', 'matriculated']),\n",
              " WordList(['at', 'age', '17', 'He', 'matriculated', 'at']),\n",
              " WordList(['age', '17', 'He', 'matriculated', 'at', 'Queen']),\n",
              " WordList(['17', 'He', 'matriculated', 'at', 'Queen', \"'s\"]),\n",
              " WordList(['He', 'matriculated', 'at', 'Queen', \"'s\", 'University']),\n",
              " WordList(['matriculated', 'at', 'Queen', \"'s\", 'University', 'and']),\n",
              " WordList(['at', 'Queen', \"'s\", 'University', 'and', 'transferred']),\n",
              " WordList(['Queen', \"'s\", 'University', 'and', 'transferred', 'to']),\n",
              " WordList([\"'s\", 'University', 'and', 'transferred', 'to', 'the']),\n",
              " WordList(['University', 'and', 'transferred', 'to', 'the', 'University']),\n",
              " WordList(['and', 'transferred', 'to', 'the', 'University', 'of']),\n",
              " WordList(['transferred', 'to', 'the', 'University', 'of', 'Pennsylvania']),\n",
              " WordList(['to', 'the', 'University', 'of', 'Pennsylvania', 'two']),\n",
              " WordList(['the', 'University', 'of', 'Pennsylvania', 'two', 'years']),\n",
              " WordList(['University', 'of', 'Pennsylvania', 'two', 'years', 'later']),\n",
              " WordList(['of', 'Pennsylvania', 'two', 'years', 'later', 'where']),\n",
              " WordList(['Pennsylvania', 'two', 'years', 'later', 'where', 'he']),\n",
              " WordList(['two', 'years', 'later', 'where', 'he', 'received']),\n",
              " WordList(['years', 'later', 'where', 'he', 'received', 'a']),\n",
              " WordList(['later', 'where', 'he', 'received', 'a', 'bachelor']),\n",
              " WordList(['where', 'he', 'received', 'a', 'bachelor', \"'s\"]),\n",
              " WordList(['he', 'received', 'a', 'bachelor', \"'s\", 'degree']),\n",
              " WordList(['received', 'a', 'bachelor', \"'s\", 'degree', 'in']),\n",
              " WordList(['a', 'bachelor', \"'s\", 'degree', 'in', 'Economics']),\n",
              " WordList(['bachelor', \"'s\", 'degree', 'in', 'Economics', 'and']),\n",
              " WordList([\"'s\", 'degree', 'in', 'Economics', 'and', 'Physics']),\n",
              " WordList(['degree', 'in', 'Economics', 'and', 'Physics', 'He']),\n",
              " WordList(['in', 'Economics', 'and', 'Physics', 'He', 'moved']),\n",
              " WordList(['Economics', 'and', 'Physics', 'He', 'moved', 'to']),\n",
              " WordList(['and', 'Physics', 'He', 'moved', 'to', 'California']),\n",
              " WordList(['Physics', 'He', 'moved', 'to', 'California', 'in']),\n",
              " WordList(['He', 'moved', 'to', 'California', 'in', '1995']),\n",
              " WordList(['moved', 'to', 'California', 'in', '1995', 'to']),\n",
              " WordList(['to', 'California', 'in', '1995', 'to', 'attend']),\n",
              " WordList(['California', 'in', '1995', 'to', 'attend', 'Stanford']),\n",
              " WordList(['in', '1995', 'to', 'attend', 'Stanford', 'University']),\n",
              " WordList(['1995', 'to', 'attend', 'Stanford', 'University', 'but']),\n",
              " WordList(['to', 'attend', 'Stanford', 'University', 'but', 'decided']),\n",
              " WordList(['attend', 'Stanford', 'University', 'but', 'decided', 'instead']),\n",
              " WordList(['Stanford', 'University', 'but', 'decided', 'instead', 'to']),\n",
              " WordList(['University', 'but', 'decided', 'instead', 'to', 'pursue']),\n",
              " WordList(['but', 'decided', 'instead', 'to', 'pursue', 'a']),\n",
              " WordList(['decided', 'instead', 'to', 'pursue', 'a', 'business']),\n",
              " WordList(['instead', 'to', 'pursue', 'a', 'business', 'career']),\n",
              " WordList(['to', 'pursue', 'a', 'business', 'career', 'co-founding']),\n",
              " WordList(['pursue', 'a', 'business', 'career', 'co-founding', 'the']),\n",
              " WordList(['a', 'business', 'career', 'co-founding', 'the', 'web']),\n",
              " WordList(['business', 'career', 'co-founding', 'the', 'web', 'software']),\n",
              " WordList(['career', 'co-founding', 'the', 'web', 'software', 'company']),\n",
              " WordList(['co-founding', 'the', 'web', 'software', 'company', 'Zip2']),\n",
              " WordList(['the', 'web', 'software', 'company', 'Zip2', 'with']),\n",
              " WordList(['web', 'software', 'company', 'Zip2', 'with', 'his']),\n",
              " WordList(['software', 'company', 'Zip2', 'with', 'his', 'brother']),\n",
              " WordList(['company', 'Zip2', 'with', 'his', 'brother', 'Kimbal']),\n",
              " WordList(['Zip2', 'with', 'his', 'brother', 'Kimbal', 'The']),\n",
              " WordList(['with', 'his', 'brother', 'Kimbal', 'The', 'startup']),\n",
              " WordList(['his', 'brother', 'Kimbal', 'The', 'startup', 'was']),\n",
              " WordList(['brother', 'Kimbal', 'The', 'startup', 'was', 'acquired']),\n",
              " WordList(['Kimbal', 'The', 'startup', 'was', 'acquired', 'by']),\n",
              " WordList(['The', 'startup', 'was', 'acquired', 'by', 'Compaq']),\n",
              " WordList(['startup', 'was', 'acquired', 'by', 'Compaq', 'for']),\n",
              " WordList(['was', 'acquired', 'by', 'Compaq', 'for', '307']),\n",
              " WordList(['acquired', 'by', 'Compaq', 'for', '307', 'million']),\n",
              " WordList(['by', 'Compaq', 'for', '307', 'million', 'in']),\n",
              " WordList(['Compaq', 'for', '307', 'million', 'in', '1999']),\n",
              " WordList(['for', '307', 'million', 'in', '1999', 'The']),\n",
              " WordList(['307', 'million', 'in', '1999', 'The', 'same']),\n",
              " WordList(['million', 'in', '1999', 'The', 'same', 'year']),\n",
              " WordList(['in', '1999', 'The', 'same', 'year', 'Musk']),\n",
              " WordList(['1999', 'The', 'same', 'year', 'Musk', 'co-founded']),\n",
              " WordList(['The', 'same', 'year', 'Musk', 'co-founded', 'online']),\n",
              " WordList(['same', 'year', 'Musk', 'co-founded', 'online', 'bank']),\n",
              " WordList(['year', 'Musk', 'co-founded', 'online', 'bank', 'X.com']),\n",
              " WordList(['Musk', 'co-founded', 'online', 'bank', 'X.com', 'which']),\n",
              " WordList(['co-founded', 'online', 'bank', 'X.com', 'which', 'merged']),\n",
              " WordList(['online', 'bank', 'X.com', 'which', 'merged', 'with']),\n",
              " WordList(['bank', 'X.com', 'which', 'merged', 'with', 'Confinity']),\n",
              " WordList(['X.com', 'which', 'merged', 'with', 'Confinity', 'in']),\n",
              " WordList(['which', 'merged', 'with', 'Confinity', 'in', '2000']),\n",
              " WordList(['merged', 'with', 'Confinity', 'in', '2000', 'to']),\n",
              " WordList(['with', 'Confinity', 'in', '2000', 'to', 'form']),\n",
              " WordList(['Confinity', 'in', '2000', 'to', 'form', 'PayPal']),\n",
              " WordList(['in', '2000', 'to', 'form', 'PayPal', 'The']),\n",
              " WordList(['2000', 'to', 'form', 'PayPal', 'The', 'company']),\n",
              " WordList(['to', 'form', 'PayPal', 'The', 'company', 'was']),\n",
              " WordList(['form', 'PayPal', 'The', 'company', 'was', 'bought']),\n",
              " WordList(['PayPal', 'The', 'company', 'was', 'bought', 'by']),\n",
              " WordList(['The', 'company', 'was', 'bought', 'by', 'eBay']),\n",
              " WordList(['company', 'was', 'bought', 'by', 'eBay', 'in']),\n",
              " WordList(['was', 'bought', 'by', 'eBay', 'in', '2002']),\n",
              " WordList(['bought', 'by', 'eBay', 'in', '2002', 'for']),\n",
              " WordList(['by', 'eBay', 'in', '2002', 'for', '1.5']),\n",
              " WordList(['eBay', 'in', '2002', 'for', '1.5', 'billion'])]"
            ]
          },
          "metadata": {},
          "execution_count": 83
        }
      ]
    },
    {
      "cell_type": "code",
      "source": [
        "TextBlob(paragraph).ngrams(10)"
      ],
      "metadata": {
        "colab": {
          "base_uri": "https://localhost:8080/"
        },
        "id": "UNQDgvd_MR_L",
        "outputId": "d3ee76ea-2898-4d6c-c635-823c2874b415"
      },
      "execution_count": 84,
      "outputs": [
        {
          "output_type": "execute_result",
          "data": {
            "text/plain": [
              "[WordList(['Stalin', 'has', 'come', 'to', 'our', 'village.he', 'will', 'also', 'be', 'discipline.Musk']),\n",
              " WordList(['has', 'come', 'to', 'our', 'village.he', 'will', 'also', 'be', 'discipline.Musk', 'was']),\n",
              " WordList(['come', 'to', 'our', 'village.he', 'will', 'also', 'be', 'discipline.Musk', 'was', 'born']),\n",
              " WordList(['to', 'our', 'village.he', 'will', 'also', 'be', 'discipline.Musk', 'was', 'born', 'to']),\n",
              " WordList(['our', 'village.he', 'will', 'also', 'be', 'discipline.Musk', 'was', 'born', 'to', 'a']),\n",
              " WordList(['village.he', 'will', 'also', 'be', 'discipline.Musk', 'was', 'born', 'to', 'a', 'Canadian']),\n",
              " WordList(['will', 'also', 'be', 'discipline.Musk', 'was', 'born', 'to', 'a', 'Canadian', 'mother']),\n",
              " WordList(['also', 'be', 'discipline.Musk', 'was', 'born', 'to', 'a', 'Canadian', 'mother', 'and']),\n",
              " WordList(['be', 'discipline.Musk', 'was', 'born', 'to', 'a', 'Canadian', 'mother', 'and', 'White']),\n",
              " WordList(['discipline.Musk', 'was', 'born', 'to', 'a', 'Canadian', 'mother', 'and', 'White', 'South']),\n",
              " WordList(['was', 'born', 'to', 'a', 'Canadian', 'mother', 'and', 'White', 'South', 'African']),\n",
              " WordList(['born', 'to', 'a', 'Canadian', 'mother', 'and', 'White', 'South', 'African', 'father']),\n",
              " WordList(['to', 'a', 'Canadian', 'mother', 'and', 'White', 'South', 'African', 'father', 'and']),\n",
              " WordList(['a', 'Canadian', 'mother', 'and', 'White', 'South', 'African', 'father', 'and', 'raised']),\n",
              " WordList(['Canadian', 'mother', 'and', 'White', 'South', 'African', 'father', 'and', 'raised', 'in']),\n",
              " WordList(['mother', 'and', 'White', 'South', 'African', 'father', 'and', 'raised', 'in', 'Pretoria']),\n",
              " WordList(['and', 'White', 'South', 'African', 'father', 'and', 'raised', 'in', 'Pretoria', 'South']),\n",
              " WordList(['White', 'South', 'African', 'father', 'and', 'raised', 'in', 'Pretoria', 'South', 'Africa']),\n",
              " WordList(['South', 'African', 'father', 'and', 'raised', 'in', 'Pretoria', 'South', 'Africa', 'He']),\n",
              " WordList(['African', 'father', 'and', 'raised', 'in', 'Pretoria', 'South', 'Africa', 'He', 'briefly']),\n",
              " WordList(['father', 'and', 'raised', 'in', 'Pretoria', 'South', 'Africa', 'He', 'briefly', 'attended']),\n",
              " WordList(['and', 'raised', 'in', 'Pretoria', 'South', 'Africa', 'He', 'briefly', 'attended', 'the']),\n",
              " WordList(['raised', 'in', 'Pretoria', 'South', 'Africa', 'He', 'briefly', 'attended', 'the', 'University']),\n",
              " WordList(['in', 'Pretoria', 'South', 'Africa', 'He', 'briefly', 'attended', 'the', 'University', 'of']),\n",
              " WordList(['Pretoria', 'South', 'Africa', 'He', 'briefly', 'attended', 'the', 'University', 'of', 'Pretoria']),\n",
              " WordList(['South', 'Africa', 'He', 'briefly', 'attended', 'the', 'University', 'of', 'Pretoria', 'before']),\n",
              " WordList(['Africa', 'He', 'briefly', 'attended', 'the', 'University', 'of', 'Pretoria', 'before', 'moving']),\n",
              " WordList(['He', 'briefly', 'attended', 'the', 'University', 'of', 'Pretoria', 'before', 'moving', 'to']),\n",
              " WordList(['briefly', 'attended', 'the', 'University', 'of', 'Pretoria', 'before', 'moving', 'to', 'Canada']),\n",
              " WordList(['attended', 'the', 'University', 'of', 'Pretoria', 'before', 'moving', 'to', 'Canada', 'at']),\n",
              " WordList(['the', 'University', 'of', 'Pretoria', 'before', 'moving', 'to', 'Canada', 'at', 'age']),\n",
              " WordList(['University', 'of', 'Pretoria', 'before', 'moving', 'to', 'Canada', 'at', 'age', '17']),\n",
              " WordList(['of', 'Pretoria', 'before', 'moving', 'to', 'Canada', 'at', 'age', '17', 'He']),\n",
              " WordList(['Pretoria', 'before', 'moving', 'to', 'Canada', 'at', 'age', '17', 'He', 'matriculated']),\n",
              " WordList(['before', 'moving', 'to', 'Canada', 'at', 'age', '17', 'He', 'matriculated', 'at']),\n",
              " WordList(['moving', 'to', 'Canada', 'at', 'age', '17', 'He', 'matriculated', 'at', 'Queen']),\n",
              " WordList(['to', 'Canada', 'at', 'age', '17', 'He', 'matriculated', 'at', 'Queen', \"'s\"]),\n",
              " WordList(['Canada', 'at', 'age', '17', 'He', 'matriculated', 'at', 'Queen', \"'s\", 'University']),\n",
              " WordList(['at', 'age', '17', 'He', 'matriculated', 'at', 'Queen', \"'s\", 'University', 'and']),\n",
              " WordList(['age', '17', 'He', 'matriculated', 'at', 'Queen', \"'s\", 'University', 'and', 'transferred']),\n",
              " WordList(['17', 'He', 'matriculated', 'at', 'Queen', \"'s\", 'University', 'and', 'transferred', 'to']),\n",
              " WordList(['He', 'matriculated', 'at', 'Queen', \"'s\", 'University', 'and', 'transferred', 'to', 'the']),\n",
              " WordList(['matriculated', 'at', 'Queen', \"'s\", 'University', 'and', 'transferred', 'to', 'the', 'University']),\n",
              " WordList(['at', 'Queen', \"'s\", 'University', 'and', 'transferred', 'to', 'the', 'University', 'of']),\n",
              " WordList(['Queen', \"'s\", 'University', 'and', 'transferred', 'to', 'the', 'University', 'of', 'Pennsylvania']),\n",
              " WordList([\"'s\", 'University', 'and', 'transferred', 'to', 'the', 'University', 'of', 'Pennsylvania', 'two']),\n",
              " WordList(['University', 'and', 'transferred', 'to', 'the', 'University', 'of', 'Pennsylvania', 'two', 'years']),\n",
              " WordList(['and', 'transferred', 'to', 'the', 'University', 'of', 'Pennsylvania', 'two', 'years', 'later']),\n",
              " WordList(['transferred', 'to', 'the', 'University', 'of', 'Pennsylvania', 'two', 'years', 'later', 'where']),\n",
              " WordList(['to', 'the', 'University', 'of', 'Pennsylvania', 'two', 'years', 'later', 'where', 'he']),\n",
              " WordList(['the', 'University', 'of', 'Pennsylvania', 'two', 'years', 'later', 'where', 'he', 'received']),\n",
              " WordList(['University', 'of', 'Pennsylvania', 'two', 'years', 'later', 'where', 'he', 'received', 'a']),\n",
              " WordList(['of', 'Pennsylvania', 'two', 'years', 'later', 'where', 'he', 'received', 'a', 'bachelor']),\n",
              " WordList(['Pennsylvania', 'two', 'years', 'later', 'where', 'he', 'received', 'a', 'bachelor', \"'s\"]),\n",
              " WordList(['two', 'years', 'later', 'where', 'he', 'received', 'a', 'bachelor', \"'s\", 'degree']),\n",
              " WordList(['years', 'later', 'where', 'he', 'received', 'a', 'bachelor', \"'s\", 'degree', 'in']),\n",
              " WordList(['later', 'where', 'he', 'received', 'a', 'bachelor', \"'s\", 'degree', 'in', 'Economics']),\n",
              " WordList(['where', 'he', 'received', 'a', 'bachelor', \"'s\", 'degree', 'in', 'Economics', 'and']),\n",
              " WordList(['he', 'received', 'a', 'bachelor', \"'s\", 'degree', 'in', 'Economics', 'and', 'Physics']),\n",
              " WordList(['received', 'a', 'bachelor', \"'s\", 'degree', 'in', 'Economics', 'and', 'Physics', 'He']),\n",
              " WordList(['a', 'bachelor', \"'s\", 'degree', 'in', 'Economics', 'and', 'Physics', 'He', 'moved']),\n",
              " WordList(['bachelor', \"'s\", 'degree', 'in', 'Economics', 'and', 'Physics', 'He', 'moved', 'to']),\n",
              " WordList([\"'s\", 'degree', 'in', 'Economics', 'and', 'Physics', 'He', 'moved', 'to', 'California']),\n",
              " WordList(['degree', 'in', 'Economics', 'and', 'Physics', 'He', 'moved', 'to', 'California', 'in']),\n",
              " WordList(['in', 'Economics', 'and', 'Physics', 'He', 'moved', 'to', 'California', 'in', '1995']),\n",
              " WordList(['Economics', 'and', 'Physics', 'He', 'moved', 'to', 'California', 'in', '1995', 'to']),\n",
              " WordList(['and', 'Physics', 'He', 'moved', 'to', 'California', 'in', '1995', 'to', 'attend']),\n",
              " WordList(['Physics', 'He', 'moved', 'to', 'California', 'in', '1995', 'to', 'attend', 'Stanford']),\n",
              " WordList(['He', 'moved', 'to', 'California', 'in', '1995', 'to', 'attend', 'Stanford', 'University']),\n",
              " WordList(['moved', 'to', 'California', 'in', '1995', 'to', 'attend', 'Stanford', 'University', 'but']),\n",
              " WordList(['to', 'California', 'in', '1995', 'to', 'attend', 'Stanford', 'University', 'but', 'decided']),\n",
              " WordList(['California', 'in', '1995', 'to', 'attend', 'Stanford', 'University', 'but', 'decided', 'instead']),\n",
              " WordList(['in', '1995', 'to', 'attend', 'Stanford', 'University', 'but', 'decided', 'instead', 'to']),\n",
              " WordList(['1995', 'to', 'attend', 'Stanford', 'University', 'but', 'decided', 'instead', 'to', 'pursue']),\n",
              " WordList(['to', 'attend', 'Stanford', 'University', 'but', 'decided', 'instead', 'to', 'pursue', 'a']),\n",
              " WordList(['attend', 'Stanford', 'University', 'but', 'decided', 'instead', 'to', 'pursue', 'a', 'business']),\n",
              " WordList(['Stanford', 'University', 'but', 'decided', 'instead', 'to', 'pursue', 'a', 'business', 'career']),\n",
              " WordList(['University', 'but', 'decided', 'instead', 'to', 'pursue', 'a', 'business', 'career', 'co-founding']),\n",
              " WordList(['but', 'decided', 'instead', 'to', 'pursue', 'a', 'business', 'career', 'co-founding', 'the']),\n",
              " WordList(['decided', 'instead', 'to', 'pursue', 'a', 'business', 'career', 'co-founding', 'the', 'web']),\n",
              " WordList(['instead', 'to', 'pursue', 'a', 'business', 'career', 'co-founding', 'the', 'web', 'software']),\n",
              " WordList(['to', 'pursue', 'a', 'business', 'career', 'co-founding', 'the', 'web', 'software', 'company']),\n",
              " WordList(['pursue', 'a', 'business', 'career', 'co-founding', 'the', 'web', 'software', 'company', 'Zip2']),\n",
              " WordList(['a', 'business', 'career', 'co-founding', 'the', 'web', 'software', 'company', 'Zip2', 'with']),\n",
              " WordList(['business', 'career', 'co-founding', 'the', 'web', 'software', 'company', 'Zip2', 'with', 'his']),\n",
              " WordList(['career', 'co-founding', 'the', 'web', 'software', 'company', 'Zip2', 'with', 'his', 'brother']),\n",
              " WordList(['co-founding', 'the', 'web', 'software', 'company', 'Zip2', 'with', 'his', 'brother', 'Kimbal']),\n",
              " WordList(['the', 'web', 'software', 'company', 'Zip2', 'with', 'his', 'brother', 'Kimbal', 'The']),\n",
              " WordList(['web', 'software', 'company', 'Zip2', 'with', 'his', 'brother', 'Kimbal', 'The', 'startup']),\n",
              " WordList(['software', 'company', 'Zip2', 'with', 'his', 'brother', 'Kimbal', 'The', 'startup', 'was']),\n",
              " WordList(['company', 'Zip2', 'with', 'his', 'brother', 'Kimbal', 'The', 'startup', 'was', 'acquired']),\n",
              " WordList(['Zip2', 'with', 'his', 'brother', 'Kimbal', 'The', 'startup', 'was', 'acquired', 'by']),\n",
              " WordList(['with', 'his', 'brother', 'Kimbal', 'The', 'startup', 'was', 'acquired', 'by', 'Compaq']),\n",
              " WordList(['his', 'brother', 'Kimbal', 'The', 'startup', 'was', 'acquired', 'by', 'Compaq', 'for']),\n",
              " WordList(['brother', 'Kimbal', 'The', 'startup', 'was', 'acquired', 'by', 'Compaq', 'for', '307']),\n",
              " WordList(['Kimbal', 'The', 'startup', 'was', 'acquired', 'by', 'Compaq', 'for', '307', 'million']),\n",
              " WordList(['The', 'startup', 'was', 'acquired', 'by', 'Compaq', 'for', '307', 'million', 'in']),\n",
              " WordList(['startup', 'was', 'acquired', 'by', 'Compaq', 'for', '307', 'million', 'in', '1999']),\n",
              " WordList(['was', 'acquired', 'by', 'Compaq', 'for', '307', 'million', 'in', '1999', 'The']),\n",
              " WordList(['acquired', 'by', 'Compaq', 'for', '307', 'million', 'in', '1999', 'The', 'same']),\n",
              " WordList(['by', 'Compaq', 'for', '307', 'million', 'in', '1999', 'The', 'same', 'year']),\n",
              " WordList(['Compaq', 'for', '307', 'million', 'in', '1999', 'The', 'same', 'year', 'Musk']),\n",
              " WordList(['for', '307', 'million', 'in', '1999', 'The', 'same', 'year', 'Musk', 'co-founded']),\n",
              " WordList(['307', 'million', 'in', '1999', 'The', 'same', 'year', 'Musk', 'co-founded', 'online']),\n",
              " WordList(['million', 'in', '1999', 'The', 'same', 'year', 'Musk', 'co-founded', 'online', 'bank']),\n",
              " WordList(['in', '1999', 'The', 'same', 'year', 'Musk', 'co-founded', 'online', 'bank', 'X.com']),\n",
              " WordList(['1999', 'The', 'same', 'year', 'Musk', 'co-founded', 'online', 'bank', 'X.com', 'which']),\n",
              " WordList(['The', 'same', 'year', 'Musk', 'co-founded', 'online', 'bank', 'X.com', 'which', 'merged']),\n",
              " WordList(['same', 'year', 'Musk', 'co-founded', 'online', 'bank', 'X.com', 'which', 'merged', 'with']),\n",
              " WordList(['year', 'Musk', 'co-founded', 'online', 'bank', 'X.com', 'which', 'merged', 'with', 'Confinity']),\n",
              " WordList(['Musk', 'co-founded', 'online', 'bank', 'X.com', 'which', 'merged', 'with', 'Confinity', 'in']),\n",
              " WordList(['co-founded', 'online', 'bank', 'X.com', 'which', 'merged', 'with', 'Confinity', 'in', '2000']),\n",
              " WordList(['online', 'bank', 'X.com', 'which', 'merged', 'with', 'Confinity', 'in', '2000', 'to']),\n",
              " WordList(['bank', 'X.com', 'which', 'merged', 'with', 'Confinity', 'in', '2000', 'to', 'form']),\n",
              " WordList(['X.com', 'which', 'merged', 'with', 'Confinity', 'in', '2000', 'to', 'form', 'PayPal']),\n",
              " WordList(['which', 'merged', 'with', 'Confinity', 'in', '2000', 'to', 'form', 'PayPal', 'The']),\n",
              " WordList(['merged', 'with', 'Confinity', 'in', '2000', 'to', 'form', 'PayPal', 'The', 'company']),\n",
              " WordList(['with', 'Confinity', 'in', '2000', 'to', 'form', 'PayPal', 'The', 'company', 'was']),\n",
              " WordList(['Confinity', 'in', '2000', 'to', 'form', 'PayPal', 'The', 'company', 'was', 'bought']),\n",
              " WordList(['in', '2000', 'to', 'form', 'PayPal', 'The', 'company', 'was', 'bought', 'by']),\n",
              " WordList(['2000', 'to', 'form', 'PayPal', 'The', 'company', 'was', 'bought', 'by', 'eBay']),\n",
              " WordList(['to', 'form', 'PayPal', 'The', 'company', 'was', 'bought', 'by', 'eBay', 'in']),\n",
              " WordList(['form', 'PayPal', 'The', 'company', 'was', 'bought', 'by', 'eBay', 'in', '2002']),\n",
              " WordList(['PayPal', 'The', 'company', 'was', 'bought', 'by', 'eBay', 'in', '2002', 'for']),\n",
              " WordList(['The', 'company', 'was', 'bought', 'by', 'eBay', 'in', '2002', 'for', '1.5']),\n",
              " WordList(['company', 'was', 'bought', 'by', 'eBay', 'in', '2002', 'for', '1.5', 'billion'])]"
            ]
          },
          "metadata": {},
          "execution_count": 84
        }
      ]
    },
    {
      "cell_type": "code",
      "source": [
        "from nltk.stem import PorterStemmer\n",
        "#for grammatical errors"
      ],
      "metadata": {
        "id": "5AKaULtnMUz0"
      },
      "execution_count": 85,
      "outputs": []
    },
    {
      "cell_type": "code",
      "source": [
        "pst=PorterStemmer()"
      ],
      "metadata": {
        "id": "WuP_AxBSMdrP"
      },
      "execution_count": 86,
      "outputs": []
    },
    {
      "cell_type": "code",
      "source": [
        "pst.stem('goes')"
      ],
      "metadata": {
        "colab": {
          "base_uri": "https://localhost:8080/",
          "height": 36
        },
        "id": "CcDbPYSmMgmu",
        "outputId": "b03a8f0b-d583-4baa-c0c2-d514875b3f16"
      },
      "execution_count": 87,
      "outputs": [
        {
          "output_type": "execute_result",
          "data": {
            "text/plain": [
              "'goe'"
            ],
            "application/vnd.google.colaboratory.intrinsic+json": {
              "type": "string"
            }
          },
          "metadata": {},
          "execution_count": 87
        }
      ]
    },
    {
      "cell_type": "code",
      "source": [
        "pst.stem('thinking')"
      ],
      "metadata": {
        "colab": {
          "base_uri": "https://localhost:8080/",
          "height": 36
        },
        "id": "khbAi2OXMj3c",
        "outputId": "84ea1099-9f1b-42f3-b9ae-2b74a86ccdea"
      },
      "execution_count": 88,
      "outputs": [
        {
          "output_type": "execute_result",
          "data": {
            "text/plain": [
              "'think'"
            ],
            "application/vnd.google.colaboratory.intrinsic+json": {
              "type": "string"
            }
          },
          "metadata": {},
          "execution_count": 88
        }
      ]
    },
    {
      "cell_type": "code",
      "source": [
        "pst.stem('sends')"
      ],
      "metadata": {
        "colab": {
          "base_uri": "https://localhost:8080/",
          "height": 36
        },
        "id": "PoHfOhzrMuQM",
        "outputId": "367b9eca-ad5d-49e6-eed2-ba2b05a9b764"
      },
      "execution_count": 89,
      "outputs": [
        {
          "output_type": "execute_result",
          "data": {
            "text/plain": [
              "'send'"
            ],
            "application/vnd.google.colaboratory.intrinsic+json": {
              "type": "string"
            }
          },
          "metadata": {},
          "execution_count": 89
        }
      ]
    },
    {
      "cell_type": "code",
      "source": [
        "from nltk.stem import LancasterStemmer"
      ],
      "metadata": {
        "id": "QEahrOMfNM3n"
      },
      "execution_count": 90,
      "outputs": []
    },
    {
      "cell_type": "code",
      "source": [
        "lst=LancasterStemmer()"
      ],
      "metadata": {
        "id": "I6sWRc7uOnNk"
      },
      "execution_count": 91,
      "outputs": []
    },
    {
      "cell_type": "code",
      "source": [
        "lst.stem(\"sending\")"
      ],
      "metadata": {
        "colab": {
          "base_uri": "https://localhost:8080/",
          "height": 36
        },
        "id": "JoUpe47eOqMQ",
        "outputId": "6c4992b2-2959-431e-af19-5968c366e39d"
      },
      "execution_count": 92,
      "outputs": [
        {
          "output_type": "execute_result",
          "data": {
            "text/plain": [
              "'send'"
            ],
            "application/vnd.google.colaboratory.intrinsic+json": {
              "type": "string"
            }
          },
          "metadata": {},
          "execution_count": 92
        }
      ]
    },
    {
      "cell_type": "code",
      "source": [
        "lst.stem(\"goes\")"
      ],
      "metadata": {
        "colab": {
          "base_uri": "https://localhost:8080/",
          "height": 36
        },
        "id": "xR9W_0HKOsPI",
        "outputId": "e84c4bd2-d609-4188-ad10-0f4e770d1a0f"
      },
      "execution_count": 93,
      "outputs": [
        {
          "output_type": "execute_result",
          "data": {
            "text/plain": [
              "'goe'"
            ],
            "application/vnd.google.colaboratory.intrinsic+json": {
              "type": "string"
            }
          },
          "metadata": {},
          "execution_count": 93
        }
      ]
    },
    {
      "cell_type": "code",
      "source": [
        "from nltk.stem import WordNetLemmatizer"
      ],
      "metadata": {
        "id": "GstDmrI8OvI3"
      },
      "execution_count": 94,
      "outputs": []
    },
    {
      "cell_type": "code",
      "source": [
        "nltk.download('wordnet')"
      ],
      "metadata": {
        "colab": {
          "base_uri": "https://localhost:8080/"
        },
        "id": "IhGCEbjlPIND",
        "outputId": "d60e6b76-8f91-41e5-f5b7-d420bc4c0cd3"
      },
      "execution_count": 95,
      "outputs": [
        {
          "output_type": "stream",
          "name": "stdout",
          "text": [
            "[nltk_data] Downloading package wordnet to /root/nltk_data...\n",
            "[nltk_data]   Package wordnet is already up-to-date!\n"
          ]
        },
        {
          "output_type": "execute_result",
          "data": {
            "text/plain": [
              "True"
            ]
          },
          "metadata": {},
          "execution_count": 95
        }
      ]
    },
    {
      "cell_type": "code",
      "source": [
        "lmtzr = WordNetLemmatizer()"
      ],
      "metadata": {
        "id": "5Q0yXDDKPNP5"
      },
      "execution_count": 96,
      "outputs": []
    },
    {
      "cell_type": "code",
      "source": [
        "lmtzr.lemmatize(\"knives\")"
      ],
      "metadata": {
        "colab": {
          "base_uri": "https://localhost:8080/",
          "height": 36
        },
        "id": "CupnxkRCPcuk",
        "outputId": "dd153529-89ef-4bbc-e200-f78c980df0cd"
      },
      "execution_count": 97,
      "outputs": [
        {
          "output_type": "execute_result",
          "data": {
            "text/plain": [
              "'knife'"
            ],
            "application/vnd.google.colaboratory.intrinsic+json": {
              "type": "string"
            }
          },
          "metadata": {},
          "execution_count": 97
        }
      ]
    },
    {
      "cell_type": "code",
      "source": [
        "lmtzr.lemmatize(\"goes\")"
      ],
      "metadata": {
        "colab": {
          "base_uri": "https://localhost:8080/",
          "height": 36
        },
        "id": "p9dg_vPMPXXj",
        "outputId": "d9a10237-ce18-47d0-9d15-6f3bd600196a"
      },
      "execution_count": 98,
      "outputs": [
        {
          "output_type": "execute_result",
          "data": {
            "text/plain": [
              "'go'"
            ],
            "application/vnd.google.colaboratory.intrinsic+json": {
              "type": "string"
            }
          },
          "metadata": {},
          "execution_count": 98
        }
      ]
    },
    {
      "cell_type": "code",
      "source": [
        "from nltk import word_tokenize\n",
        "from nltk.corpus import stopwords"
      ],
      "metadata": {
        "id": "PmCTkjwMPay4"
      },
      "execution_count": 99,
      "outputs": []
    },
    {
      "cell_type": "code",
      "source": [
        "nltk.download(\"stopwords\")"
      ],
      "metadata": {
        "colab": {
          "base_uri": "https://localhost:8080/"
        },
        "id": "APERV8rYf67T",
        "outputId": "22604b9f-d0f2-440a-a403-43c3b1df09d4"
      },
      "execution_count": 100,
      "outputs": [
        {
          "output_type": "stream",
          "name": "stdout",
          "text": [
            "[nltk_data] Downloading package stopwords to /root/nltk_data...\n",
            "[nltk_data]   Package stopwords is already up-to-date!\n"
          ]
        },
        {
          "output_type": "execute_result",
          "data": {
            "text/plain": [
              "True"
            ]
          },
          "metadata": {},
          "execution_count": 100
        }
      ]
    },
    {
      "cell_type": "code",
      "source": [
        "a=set(stopwords.words('english'))"
      ],
      "metadata": {
        "id": "ywA7flnuf-MU"
      },
      "execution_count": 101,
      "outputs": []
    },
    {
      "cell_type": "code",
      "source": [
        "text1=word_tokenize(paragraph.lower())"
      ],
      "metadata": {
        "id": "YlFnqLemgDY-"
      },
      "execution_count": 102,
      "outputs": []
    },
    {
      "cell_type": "code",
      "source": [
        "text1"
      ],
      "metadata": {
        "colab": {
          "base_uri": "https://localhost:8080/"
        },
        "id": "v0y86xg9gpTo",
        "outputId": "94eabde7-55be-4312-dd92-b73666190859"
      },
      "execution_count": 103,
      "outputs": [
        {
          "output_type": "execute_result",
          "data": {
            "text/plain": [
              "['stalin',\n",
              " 'has',\n",
              " 'come',\n",
              " 'to',\n",
              " 'our',\n",
              " 'village.he',\n",
              " 'will',\n",
              " 'also',\n",
              " 'be',\n",
              " 'discipline.musk',\n",
              " 'was',\n",
              " 'born',\n",
              " 'to',\n",
              " 'a',\n",
              " 'canadian',\n",
              " 'mother',\n",
              " 'and',\n",
              " 'white',\n",
              " 'south',\n",
              " 'african',\n",
              " 'father',\n",
              " 'and',\n",
              " 'raised',\n",
              " 'in',\n",
              " 'pretoria',\n",
              " ',',\n",
              " 'south',\n",
              " 'africa',\n",
              " '.',\n",
              " 'he',\n",
              " 'briefly',\n",
              " 'attended',\n",
              " 'the',\n",
              " 'university',\n",
              " 'of',\n",
              " 'pretoria',\n",
              " 'before',\n",
              " 'moving',\n",
              " 'to',\n",
              " 'canada',\n",
              " 'at',\n",
              " 'age',\n",
              " '17.',\n",
              " 'he',\n",
              " 'matriculated',\n",
              " 'at',\n",
              " 'queen',\n",
              " \"'s\",\n",
              " 'university',\n",
              " 'and',\n",
              " 'transferred',\n",
              " 'to',\n",
              " 'the',\n",
              " 'university',\n",
              " 'of',\n",
              " 'pennsylvania',\n",
              " 'two',\n",
              " 'years',\n",
              " 'later',\n",
              " ',',\n",
              " 'where',\n",
              " 'he',\n",
              " 'received',\n",
              " 'a',\n",
              " 'bachelor',\n",
              " \"'s\",\n",
              " 'degree',\n",
              " 'in',\n",
              " 'economics',\n",
              " 'and',\n",
              " 'physics',\n",
              " '.',\n",
              " 'he',\n",
              " 'moved',\n",
              " 'to',\n",
              " 'california',\n",
              " 'in',\n",
              " '1995',\n",
              " 'to',\n",
              " 'attend',\n",
              " 'stanford',\n",
              " 'university',\n",
              " 'but',\n",
              " 'decided',\n",
              " 'instead',\n",
              " 'to',\n",
              " 'pursue',\n",
              " 'a',\n",
              " 'business',\n",
              " 'career',\n",
              " ',',\n",
              " 'co-founding',\n",
              " 'the',\n",
              " 'web',\n",
              " 'software',\n",
              " 'company',\n",
              " 'zip2',\n",
              " 'with',\n",
              " 'his',\n",
              " 'brother',\n",
              " 'kimbal',\n",
              " '.',\n",
              " 'the',\n",
              " 'startup',\n",
              " 'was',\n",
              " 'acquired',\n",
              " 'by',\n",
              " 'compaq',\n",
              " 'for',\n",
              " '$',\n",
              " '307',\n",
              " 'million',\n",
              " 'in',\n",
              " '1999.',\n",
              " 'the',\n",
              " 'same',\n",
              " 'year',\n",
              " ',',\n",
              " 'musk',\n",
              " 'co-founded',\n",
              " 'online',\n",
              " 'bank',\n",
              " 'x.com',\n",
              " ',',\n",
              " 'which',\n",
              " 'merged',\n",
              " 'with',\n",
              " 'confinity',\n",
              " 'in',\n",
              " '2000',\n",
              " 'to',\n",
              " 'form',\n",
              " 'paypal',\n",
              " '.',\n",
              " 'the',\n",
              " 'company',\n",
              " 'was',\n",
              " 'bought',\n",
              " 'by',\n",
              " 'ebay',\n",
              " 'in',\n",
              " '2002',\n",
              " 'for',\n",
              " '$',\n",
              " '1.5',\n",
              " 'billion',\n",
              " '.']"
            ]
          },
          "metadata": {},
          "execution_count": 103
        }
      ]
    },
    {
      "cell_type": "code",
      "source": [
        "stopwords=[x for x in text1 if x not in a]"
      ],
      "metadata": {
        "id": "OWCmWnwFg2vO"
      },
      "execution_count": 104,
      "outputs": []
    },
    {
      "cell_type": "code",
      "source": [
        "stopwords"
      ],
      "metadata": {
        "colab": {
          "base_uri": "https://localhost:8080/"
        },
        "id": "RAA24SZthlBY",
        "outputId": "91e2906a-8d78-476e-c6ca-9ebbe1c9cf47"
      },
      "execution_count": 105,
      "outputs": [
        {
          "output_type": "execute_result",
          "data": {
            "text/plain": [
              "['stalin',\n",
              " 'come',\n",
              " 'village.he',\n",
              " 'also',\n",
              " 'discipline.musk',\n",
              " 'born',\n",
              " 'canadian',\n",
              " 'mother',\n",
              " 'white',\n",
              " 'south',\n",
              " 'african',\n",
              " 'father',\n",
              " 'raised',\n",
              " 'pretoria',\n",
              " ',',\n",
              " 'south',\n",
              " 'africa',\n",
              " '.',\n",
              " 'briefly',\n",
              " 'attended',\n",
              " 'university',\n",
              " 'pretoria',\n",
              " 'moving',\n",
              " 'canada',\n",
              " 'age',\n",
              " '17.',\n",
              " 'matriculated',\n",
              " 'queen',\n",
              " \"'s\",\n",
              " 'university',\n",
              " 'transferred',\n",
              " 'university',\n",
              " 'pennsylvania',\n",
              " 'two',\n",
              " 'years',\n",
              " 'later',\n",
              " ',',\n",
              " 'received',\n",
              " 'bachelor',\n",
              " \"'s\",\n",
              " 'degree',\n",
              " 'economics',\n",
              " 'physics',\n",
              " '.',\n",
              " 'moved',\n",
              " 'california',\n",
              " '1995',\n",
              " 'attend',\n",
              " 'stanford',\n",
              " 'university',\n",
              " 'decided',\n",
              " 'instead',\n",
              " 'pursue',\n",
              " 'business',\n",
              " 'career',\n",
              " ',',\n",
              " 'co-founding',\n",
              " 'web',\n",
              " 'software',\n",
              " 'company',\n",
              " 'zip2',\n",
              " 'brother',\n",
              " 'kimbal',\n",
              " '.',\n",
              " 'startup',\n",
              " 'acquired',\n",
              " 'compaq',\n",
              " '$',\n",
              " '307',\n",
              " 'million',\n",
              " '1999.',\n",
              " 'year',\n",
              " ',',\n",
              " 'musk',\n",
              " 'co-founded',\n",
              " 'online',\n",
              " 'bank',\n",
              " 'x.com',\n",
              " ',',\n",
              " 'merged',\n",
              " 'confinity',\n",
              " '2000',\n",
              " 'form',\n",
              " 'paypal',\n",
              " '.',\n",
              " 'company',\n",
              " 'bought',\n",
              " 'ebay',\n",
              " '2002',\n",
              " '$',\n",
              " '1.5',\n",
              " 'billion',\n",
              " '.']"
            ]
          },
          "metadata": {},
          "execution_count": 105
        }
      ]
    },
    {
      "cell_type": "code",
      "source": [
        "from wordcloud import WordCloud"
      ],
      "metadata": {
        "id": "bVHFDVYQhmRg"
      },
      "execution_count": 106,
      "outputs": []
    },
    {
      "cell_type": "code",
      "source": [
        "import matplotlib.pyplot as plt\n"
      ],
      "metadata": {
        "id": "KHJYGPahiQA7"
      },
      "execution_count": 107,
      "outputs": []
    },
    {
      "cell_type": "code",
      "source": [
        "all_words=''.join([t for t in stopwords])\n",
        "wordcloud=WordCloud(width=800,height=500,random_state=21,max_font_size=110).generate(all_words)\n",
        "plt.figure(figsize=(12,8))\n",
        "plt.imshow(wordcloud,interpolation=\"bilinear\")\n",
        "plt.axis('off')\n",
        "plt.show()"
      ],
      "metadata": {
        "colab": {
          "base_uri": "https://localhost:8080/",
          "height": 449
        },
        "id": "hhuwjHpqiTqc",
        "outputId": "d1e633f6-ea9e-45b1-cb6e-ea0ce2b5bb5a"
      },
      "execution_count": 108,
      "outputs": [
        {
          "output_type": "display_data",
          "data": {
            "text/plain": [
              "<Figure size 864x576 with 1 Axes>"
            ],
            "image/png": "[encoded data removed]"
          },
          "metadata": {
            "needs_background": "light"
          }
        }
      ]
    },
    {
      "cell_type": "code",
      "source": [
        "nltk.download('averaged_perceptron_tagger')"
      ],
      "metadata": {
        "colab": {
          "base_uri": "https://localhost:8080/"
        },
        "id": "0psdwjn2i-O4",
        "outputId": "2f61f68b-1338-4e66-c2b1-7bbc2bc6e1dd"
      },
      "execution_count": 109,
      "outputs": [
        {
          "output_type": "stream",
          "name": "stdout",
          "text": [
            "[nltk_data] Downloading package averaged_perceptron_tagger to\n",
            "[nltk_data]     /root/nltk_data...\n",
            "[nltk_data]   Package averaged_perceptron_tagger is already up-to-\n",
            "[nltk_data]       date!\n"
          ]
        },
        {
          "output_type": "execute_result",
          "data": {
            "text/plain": [
              "True"
            ]
          },
          "metadata": {},
          "execution_count": 109
        }
      ]
    },
    {
      "cell_type": "code",
      "source": [
        "text2=word_tokenize(paragraph)"
      ],
      "metadata": {
        "id": "lnSe9bndk_ir"
      },
      "execution_count": 110,
      "outputs": []
    },
    {
      "cell_type": "code",
      "source": [
        "for token in text2:\n",
        "  print(nltk.pos_tag([token]))"
      ],
      "metadata": {
        "colab": {
          "base_uri": "https://localhost:8080/"
        },
        "id": "F3E-W4QdlT8w",
        "outputId": "4a81726e-1b57-428e-975f-0aaeaf37f902"
      },
      "execution_count": 111,
      "outputs": [
        {
          "output_type": "stream",
          "name": "stdout",
          "text": [
            "[('Stalin', 'NN')]\n",
            "[('has', 'VBZ')]\n",
            "[('come', 'VB')]\n",
            "[('to', 'TO')]\n",
            "[('our', 'PRP$')]\n",
            "[('village.he', 'NN')]\n",
            "[('will', 'MD')]\n",
            "[('also', 'RB')]\n",
            "[('be', 'VB')]\n",
            "[('discipline.Musk', 'NN')]\n",
            "[('was', 'VBD')]\n",
            "[('born', 'NN')]\n",
            "[('to', 'TO')]\n",
            "[('a', 'DT')]\n",
            "[('Canadian', 'JJ')]\n",
            "[('mother', 'NN')]\n",
            "[('and', 'CC')]\n",
            "[('White', 'NNP')]\n",
            "[('South', 'NNP')]\n",
            "[('African', 'JJ')]\n",
            "[('father', 'NN')]\n",
            "[('and', 'CC')]\n",
            "[('raised', 'VBN')]\n",
            "[('in', 'IN')]\n",
            "[('Pretoria', 'NNS')]\n",
            "[(',', ',')]\n",
            "[('South', 'NNP')]\n",
            "[('Africa', 'NNP')]\n",
            "[('.', '.')]\n",
            "[('He', 'PRP')]\n",
            "[('briefly', 'NN')]\n",
            "[('attended', 'VBD')]\n",
            "[('the', 'DT')]\n",
            "[('University', 'NNP')]\n",
            "[('of', 'IN')]\n",
            "[('Pretoria', 'NNS')]\n",
            "[('before', 'IN')]\n",
            "[('moving', 'VBG')]\n",
            "[('to', 'TO')]\n",
            "[('Canada', 'NNP')]\n",
            "[('at', 'IN')]\n",
            "[('age', 'NN')]\n",
            "[('17', 'CD')]\n",
            "[('.', '.')]\n",
            "[('He', 'PRP')]\n",
            "[('matriculated', 'VBN')]\n",
            "[('at', 'IN')]\n",
            "[('Queen', 'NN')]\n",
            "[(\"'s\", 'POS')]\n",
            "[('University', 'NNP')]\n",
            "[('and', 'CC')]\n",
            "[('transferred', 'VBN')]\n",
            "[('to', 'TO')]\n",
            "[('the', 'DT')]\n",
            "[('University', 'NNP')]\n",
            "[('of', 'IN')]\n",
            "[('Pennsylvania', 'NN')]\n",
            "[('two', 'CD')]\n",
            "[('years', 'NNS')]\n",
            "[('later', 'RB')]\n",
            "[(',', ',')]\n",
            "[('where', 'WRB')]\n",
            "[('he', 'PRP')]\n",
            "[('received', 'VBN')]\n",
            "[('a', 'DT')]\n",
            "[('bachelor', 'NN')]\n",
            "[(\"'s\", 'POS')]\n",
            "[('degree', 'NN')]\n",
            "[('in', 'IN')]\n",
            "[('Economics', 'NNS')]\n",
            "[('and', 'CC')]\n",
            "[('Physics', 'NNS')]\n",
            "[('.', '.')]\n",
            "[('He', 'PRP')]\n",
            "[('moved', 'VBN')]\n",
            "[('to', 'TO')]\n",
            "[('California', 'NNP')]\n",
            "[('in', 'IN')]\n",
            "[('1995', 'CD')]\n",
            "[('to', 'TO')]\n",
            "[('attend', 'NN')]\n",
            "[('Stanford', 'NN')]\n",
            "[('University', 'NNP')]\n",
            "[('but', 'CC')]\n",
            "[('decided', 'VBD')]\n",
            "[('instead', 'RB')]\n",
            "[('to', 'TO')]\n",
            "[('pursue', 'NN')]\n",
            "[('a', 'DT')]\n",
            "[('business', 'NN')]\n",
            "[('career', 'NN')]\n",
            "[(',', ',')]\n",
            "[('co-founding', 'NN')]\n",
            "[('the', 'DT')]\n",
            "[('web', 'NN')]\n",
            "[('software', 'NN')]\n",
            "[('company', 'NN')]\n",
            "[('Zip2', 'NN')]\n",
            "[('with', 'IN')]\n",
            "[('his', 'PRP$')]\n",
            "[('brother', 'NN')]\n",
            "[('Kimbal', 'NNP')]\n",
            "[('.', '.')]\n",
            "[('The', 'DT')]\n",
            "[('startup', 'NN')]\n",
            "[('was', 'VBD')]\n",
            "[('acquired', 'VBN')]\n",
            "[('by', 'IN')]\n",
            "[('Compaq', 'NNP')]\n",
            "[('for', 'IN')]\n",
            "[('$', '$')]\n",
            "[('307', 'CD')]\n",
            "[('million', 'CD')]\n",
            "[('in', 'IN')]\n",
            "[('1999', 'CD')]\n",
            "[('.', '.')]\n",
            "[('The', 'DT')]\n",
            "[('same', 'JJ')]\n",
            "[('year', 'NN')]\n",
            "[(',', ',')]\n",
            "[('Musk', 'NN')]\n",
            "[('co-founded', 'JJ')]\n",
            "[('online', 'NN')]\n",
            "[('bank', 'NN')]\n",
            "[('X.com', 'NN')]\n",
            "[(',', ',')]\n",
            "[('which', 'WDT')]\n",
            "[('merged', 'VBN')]\n",
            "[('with', 'IN')]\n",
            "[('Confinity', 'NN')]\n",
            "[('in', 'IN')]\n",
            "[('2000', 'CD')]\n",
            "[('to', 'TO')]\n",
            "[('form', 'NN')]\n",
            "[('PayPal', 'NN')]\n",
            "[('.', '.')]\n",
            "[('The', 'DT')]\n",
            "[('company', 'NN')]\n",
            "[('was', 'VBD')]\n",
            "[('bought', 'NN')]\n",
            "[('by', 'IN')]\n",
            "[('eBay', 'NN')]\n",
            "[('in', 'IN')]\n",
            "[('2002', 'CD')]\n",
            "[('for', 'IN')]\n",
            "[('$', '$')]\n",
            "[('1.5', 'CD')]\n",
            "[('billion', 'CD')]\n",
            "[('.', '.')]\n"
          ]
        }
      ]
    },
    {
      "cell_type": "code",
      "source": [
        "from sklearn.feature_extraction.text import TfidfVectorizer"
      ],
      "metadata": {
        "id": "sTxgEaN4lhf6"
      },
      "execution_count": 113,
      "outputs": []
    },
    {
      "cell_type": "code",
      "source": [
        "vectorizer=TfidfVectorizer()"
      ],
      "metadata": {
        "id": "2QXOqWcpognZ"
      },
      "execution_count": 114,
      "outputs": []
    },
    {
      "cell_type": "code",
      "source": [
        "x=vectorizer.fit_transform(stopwords)"
      ],
      "metadata": {
        "id": "AdN6KrC7opvl"
      },
      "execution_count": 115,
      "outputs": []
    },
    {
      "cell_type": "code",
      "source": [
        "print(vectorizer.get_feature_names())"
      ],
      "metadata": {
        "colab": {
          "base_uri": "https://localhost:8080/"
        },
        "id": "US1r5f32ou07",
        "outputId": "6caceba5-6b47-4dd7-9e66-70ccd47aef5b"
      },
      "execution_count": 117,
      "outputs": [
        {
          "output_type": "stream",
          "name": "stdout",
          "text": [
            "['17', '1995', '1999', '2000', '2002', '307', 'acquired', 'africa', 'african', 'age', 'also', 'attend', 'attended', 'bachelor', 'bank', 'billion', 'born', 'bought', 'briefly', 'brother', 'business', 'california', 'canada', 'canadian', 'career', 'co', 'com', 'come', 'company', 'compaq', 'confinity', 'decided', 'degree', 'discipline', 'ebay', 'economics', 'father', 'form', 'founded', 'founding', 'he', 'instead', 'kimbal', 'later', 'matriculated', 'merged', 'million', 'mother', 'moved', 'moving', 'musk', 'online', 'paypal', 'pennsylvania', 'physics', 'pretoria', 'pursue', 'queen', 'raised', 'received', 'software', 'south', 'stalin', 'stanford', 'startup', 'transferred', 'two', 'university', 'village', 'web', 'white', 'year', 'years', 'zip2']\n"
          ]
        },
        {
          "output_type": "stream",
          "name": "stderr",
          "text": [
            "/usr/local/lib/python3.7/dist-packages/sklearn/utils/deprecation.py:87: FutureWarning: Function get_feature_names is deprecated; get_feature_names is deprecated in 1.0 and will be removed in 1.2. Please use get_feature_names_out instead.\n",
            "  warnings.warn(msg, category=FutureWarning)\n"
          ]
        }
      ]
    },
    {
      "cell_type": "code",
      "source": [
        "from collections import Counter"
      ],
      "metadata": {
        "id": "J0Z9veuyqzEy"
      },
      "execution_count": 118,
      "outputs": []
    },
    {
      "cell_type": "code",
      "source": [
        "counter=Counter(stopwords)"
      ],
      "metadata": {
        "id": "l1Ck06tisZrf"
      },
      "execution_count": 119,
      "outputs": []
    },
    {
      "cell_type": "code",
      "source": [
        "most_occur=counter.most_common(10)"
      ],
      "metadata": {
        "id": "-ottwEaMsd96"
      },
      "execution_count": 120,
      "outputs": []
    },
    {
      "cell_type": "code",
      "source": [
        "most_occur"
      ],
      "metadata": {
        "colab": {
          "base_uri": "https://localhost:8080/"
        },
        "id": "AcUmuMNIsjQY",
        "outputId": "14420a0d-bde6-43a6-81e7-61ad1fc4c52b"
      },
      "execution_count": 121,
      "outputs": [
        {
          "output_type": "execute_result",
          "data": {
            "text/plain": [
              "[(',', 5),\n",
              " ('.', 5),\n",
              " ('university', 4),\n",
              " ('south', 2),\n",
              " ('pretoria', 2),\n",
              " (\"'s\", 2),\n",
              " ('company', 2),\n",
              " ('$', 2),\n",
              " ('stalin', 1),\n",
              " ('come', 1)]"
            ]
          },
          "metadata": {},
          "execution_count": 121
        }
      ]
    },
    {
      "cell_type": "code",
      "source": [
        "from nltk import ne_chunk"
      ],
      "metadata": {
        "id": "VAmpxlORttQZ"
      },
      "execution_count": 123,
      "outputs": []
    },
    {
      "cell_type": "code",
      "source": [
        "token=word_tokenize(paragraph)"
      ],
      "metadata": {
        "id": "PGqu3gdeslDf"
      },
      "execution_count": 122,
      "outputs": []
    },
    {
      "cell_type": "code",
      "source": [
        "tags=nltk.pos_tag(token)"
      ],
      "metadata": {
        "id": "HqnuQj9btfIS"
      },
      "execution_count": 133,
      "outputs": []
    },
    {
      "cell_type": "code",
      "source": [
        "nltk.download('maxent_ne_chunker')"
      ],
      "metadata": {
        "colab": {
          "base_uri": "https://localhost:8080/"
        },
        "id": "yWGkQnH6tySM",
        "outputId": "c2c949b2-9ea9-457a-ead3-1f9f29a08178"
      },
      "execution_count": 134,
      "outputs": [
        {
          "output_type": "stream",
          "name": "stdout",
          "text": [
            "[nltk_data] Downloading package maxent_ne_chunker to\n",
            "[nltk_data]     /root/nltk_data...\n",
            "[nltk_data]   Package maxent_ne_chunker is already up-to-date!\n"
          ]
        },
        {
          "output_type": "execute_result",
          "data": {
            "text/plain": [
              "True"
            ]
          },
          "metadata": {},
          "execution_count": 134
        }
      ]
    },
    {
      "cell_type": "code",
      "source": [
        "nltk.download('words')"
      ],
      "metadata": {
        "colab": {
          "base_uri": "https://localhost:8080/"
        },
        "id": "jBrQbkjwt13B",
        "outputId": "a14e7fbe-7231-40a1-a58b-28f14aee3bc0"
      },
      "execution_count": 135,
      "outputs": [
        {
          "output_type": "stream",
          "name": "stdout",
          "text": [
            "[nltk_data] Downloading package words to /root/nltk_data...\n",
            "[nltk_data]   Package words is already up-to-date!\n"
          ]
        },
        {
          "output_type": "execute_result",
          "data": {
            "text/plain": [
              "True"
            ]
          },
          "metadata": {},
          "execution_count": 135
        }
      ]
    },
    {
      "cell_type": "code",
      "source": [
        "chunk=ne_chunk(tags)"
      ],
      "metadata": {
        "id": "ENuvIlY-t7-0"
      },
      "execution_count": 136,
      "outputs": []
    },
    {
      "cell_type": "code",
      "source": [
        "print(chunk)"
      ],
      "metadata": {
        "colab": {
          "base_uri": "https://localhost:8080/"
        },
        "id": "x1YUEIcDuRo0",
        "outputId": "876d346c-bd02-4d69-d943-400179ec3721"
      },
      "execution_count": 138,
      "outputs": [
        {
          "output_type": "stream",
          "name": "stdout",
          "text": [
            "(S\n",
            "  (PERSON Stalin/NNP)\n",
            "  has/VBZ\n",
            "  come/VBN\n",
            "  to/TO\n",
            "  our/PRP$\n",
            "  village.he/NN\n",
            "  will/MD\n",
            "  also/RB\n",
            "  be/VB\n",
            "  discipline.Musk/NN\n",
            "  was/VBD\n",
            "  born/VBN\n",
            "  to/TO\n",
            "  a/DT\n",
            "  (GPE Canadian/JJ)\n",
            "  mother/NN\n",
            "  and/CC\n",
            "  (FACILITY White/NNP South/NNP African/JJ)\n",
            "  father/NN\n",
            "  and/CC\n",
            "  raised/VBN\n",
            "  in/IN\n",
            "  (GPE Pretoria/NNP)\n",
            "  ,/,\n",
            "  (GPE South/NNP Africa/NNP)\n",
            "  ./.\n",
            "  He/PRP\n",
            "  briefly/VBZ\n",
            "  attended/VBD\n",
            "  the/DT\n",
            "  (ORGANIZATION University/NNP)\n",
            "  of/IN\n",
            "  (GPE Pretoria/NNP)\n",
            "  before/IN\n",
            "  moving/VBG\n",
            "  to/TO\n",
            "  (GPE Canada/NNP)\n",
            "  at/IN\n",
            "  age/NN\n",
            "  17/CD\n",
            "  ./.\n",
            "  He/PRP\n",
            "  matriculated/VBD\n",
            "  at/IN\n",
            "  (ORGANIZATION Queen/NNP)\n",
            "  's/POS\n",
            "  (ORGANIZATION University/NNP)\n",
            "  and/CC\n",
            "  transferred/VBN\n",
            "  to/TO\n",
            "  the/DT\n",
            "  (ORGANIZATION University/NNP)\n",
            "  of/IN\n",
            "  (GPE Pennsylvania/NNP)\n",
            "  two/CD\n",
            "  years/NNS\n",
            "  later/RB\n",
            "  ,/,\n",
            "  where/WRB\n",
            "  he/PRP\n",
            "  received/VBD\n",
            "  a/DT\n",
            "  bachelor/NN\n",
            "  's/POS\n",
            "  degree/NN\n",
            "  in/IN\n",
            "  (GPE Economics/NNP)\n",
            "  and/CC\n",
            "  (ORGANIZATION Physics/NNPS)\n",
            "  ./.\n",
            "  He/PRP\n",
            "  moved/VBD\n",
            "  to/TO\n",
            "  (GPE California/NNP)\n",
            "  in/IN\n",
            "  1995/CD\n",
            "  to/TO\n",
            "  attend/VB\n",
            "  (ORGANIZATION Stanford/NNP University/NNP)\n",
            "  but/CC\n",
            "  decided/VBD\n",
            "  instead/RB\n",
            "  to/TO\n",
            "  pursue/VB\n",
            "  a/DT\n",
            "  business/NN\n",
            "  career/NN\n",
            "  ,/,\n",
            "  co-founding/VBG\n",
            "  the/DT\n",
            "  web/NN\n",
            "  software/NN\n",
            "  company/NN\n",
            "  Zip2/NNP\n",
            "  with/IN\n",
            "  his/PRP$\n",
            "  brother/NN\n",
            "  (PERSON Kimbal/NNP)\n",
            "  ./.\n",
            "  The/DT\n",
            "  startup/NN\n",
            "  was/VBD\n",
            "  acquired/VBN\n",
            "  by/IN\n",
            "  (ORGANIZATION Compaq/NNP)\n",
            "  for/IN\n",
            "  $/$\n",
            "  307/CD\n",
            "  million/CD\n",
            "  in/IN\n",
            "  1999/CD\n",
            "  ./.\n",
            "  The/DT\n",
            "  same/JJ\n",
            "  year/NN\n",
            "  ,/,\n",
            "  (PERSON Musk/NNP)\n",
            "  co-founded/JJ\n",
            "  online/NN\n",
            "  bank/NN\n",
            "  X.com/NNP\n",
            "  ,/,\n",
            "  which/WDT\n",
            "  merged/VBD\n",
            "  with/IN\n",
            "  (ORGANIZATION Confinity/NNP)\n",
            "  in/IN\n",
            "  2000/CD\n",
            "  to/TO\n",
            "  form/VB\n",
            "  (ORGANIZATION PayPal/NNP)\n",
            "  ./.\n",
            "  The/DT\n",
            "  company/NN\n",
            "  was/VBD\n",
            "  bought/VBN\n",
            "  by/IN\n",
            "  (ORGANIZATION eBay/NN)\n",
            "  in/IN\n",
            "  2002/CD\n",
            "  for/IN\n",
            "  $/$\n",
            "  1.5/CD\n",
            "  billion/CD\n",
            "  ./.)\n"
          ]
        }
      ]
    },
    {
      "cell_type": "code",
      "source": [
        ""
      ],
      "metadata": {
        "id": "so3PDSF0uS7C"
      },
      "execution_count": null,
      "outputs": []
    }
  ]
}